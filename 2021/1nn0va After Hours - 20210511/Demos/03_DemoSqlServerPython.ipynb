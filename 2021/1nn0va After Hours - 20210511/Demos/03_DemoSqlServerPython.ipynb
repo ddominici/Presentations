{
    "metadata": {
        "kernelspec": {
            "name": "python3",
            "display_name": "Python 3 (ipykernel)",
            "language": "python"
        },
        "language_info": {
            "name": "python",
            "version": "3.10.6",
            "mimetype": "text/x-python",
            "codemirror_mode": {
                "name": "ipython",
                "version": 3
            },
            "pygments_lexer": "ipython3",
            "nbconvert_exporter": "python",
            "file_extension": ".py"
        },
        "extensions": {
            "azuredatastudio": {
                "version": 1,
                "views": []
            }
        }
    },
    "nbformat_minor": 2,
    "nbformat": 4,
    "cells": [
        {
            "cell_type": "markdown",
            "source": [
                "# Come NON diventare ricchi con Python\n",
                "\n",
                "Questa sessione è pensata per dare qualche spunto pratico a chi ha la necessità di manipolare i dati usando Python e SQL Server.\n",
                "\n",
                "Il notebook che state guardando è solo la prima parte, giusto per prendere confidenza con Python e con le librerie usate per la manipolazione dei dati (pandas e numpy) e quelle per il plotting dei dati (matplotlib e plotly).\n",
                "\n",
                "Ci sono tonnellate di librerie per Python, alcune anche legate al mondo finanziario e questa sessione non ha assolutamente la pretesa di elencarle o dimostrarle tutte... A voi il divertimento ! :-)\n",
                "\n",
                "  \n",
                "\n",
                "Mi raccomando!!! Le demo che vedrete servono solamente a darvi qualche idea, **NON** usatele per giocare in borsa con soldi veri!!!"
            ],
            "metadata": {
                "azdata_cell_guid": "debf7d0a-35d7-41a4-84be-87b4108802f4",
                "extensions": {
                    "azuredatastudio": {
                        "views": []
                    }
                }
            }
        },
        {
            "cell_type": "code",
            "source": [
                "import datetime\r\n",
                "import pandas as pd\r\n",
                "import pandas_datareader as web\r\n",
                "import numpy as np"
            ],
            "metadata": {
                "azdata_cell_guid": "c20c8615-8e4f-4f58-b7e1-5da516838445",
                "tags": [],
                "extensions": {
                    "azuredatastudio": {
                        "views": []
                    }
                },
                "language": "python"
            },
            "outputs": [
                {
                    "traceback": [
                        "\u001b[0;31m---------------------------------------------------------------------------\u001b[0m",
                        "\u001b[0;31mModuleNotFoundError\u001b[0m                       Traceback (most recent call last)",
                        "Cell \u001b[0;32mIn [2], line 2\u001b[0m\n\u001b[1;32m      1\u001b[0m \u001b[38;5;28;01mimport\u001b[39;00m \u001b[38;5;21;01mdatetime\u001b[39;00m\n\u001b[0;32m----> 2\u001b[0m \u001b[38;5;28;01mimport\u001b[39;00m \u001b[38;5;21;01mpandas\u001b[39;00m \u001b[38;5;28;01mas\u001b[39;00m \u001b[38;5;21;01mpd\u001b[39;00m\n\u001b[1;32m      3\u001b[0m \u001b[38;5;28;01mimport\u001b[39;00m \u001b[38;5;21;01mpandas_datareader\u001b[39;00m \u001b[38;5;28;01mas\u001b[39;00m \u001b[38;5;21;01mweb\u001b[39;00m\n\u001b[1;32m      4\u001b[0m \u001b[38;5;28;01mimport\u001b[39;00m \u001b[38;5;21;01mnumpy\u001b[39;00m \u001b[38;5;28;01mas\u001b[39;00m \u001b[38;5;21;01mnp\u001b[39;00m\n",
                        "\u001b[0;31mModuleNotFoundError\u001b[0m: No module named 'pandas'"
                    ],
                    "ename": "ModuleNotFoundError",
                    "evalue": "No module named 'pandas'",
                    "output_type": "error"
                }
            ],
            "execution_count": 2
        },
        {
            "cell_type": "markdown",
            "source": [
                "## Scaricare i dati finanziari da Yahoo Finance\n",
                "\n",
                "Uno dei (pochi) siti da cui è possibile scaricare gratuitamente i valori degli scambi di borsa di titoli o ETF è Yahoo Finance.\n",
                "\n",
                "Esempio: [https://finance.yahoo.com/quote/MSFT/history?p=MSFT](https://finance.yahoo.com/quote/MSFT/history?p=MSFT)\n",
                "\n",
                "  \n",
                "\n",
                "La libreria **pandas\\_datareader** ha una funzione per scaricare i dati storici dal sito Yahoo Finance indicando il simbolo dell'azione/ETF ed i range di data di cui scaricare i dati."
            ],
            "metadata": {
                "azdata_cell_guid": "abb31f75-fafb-4338-ad09-d5f39e425a39",
                "extensions": {
                    "azuredatastudio": {
                        "views": []
                    }
                }
            }
        },
        {
            "cell_type": "code",
            "source": [
                "#\r\n",
                "# Demo - Scaricare i dati storici da Yahoo Finance\r\n",
                "#\r\n",
                "start_date = datetime.datetime(2020, 1, 1) \r\n",
                "end_date   = datetime.date.today()\r\n",
                "symbol     = 'MSFT'\r\n",
                "\r\n",
                "data = web.DataReader(symbol, 'yahoo', start_date, end_date)\r\n",
                "\r\n",
                "#data.head(5) \r\n",
                "\r\n",
                "data.tail(5)\r\n",
                "\r\n",
                "#print(data)"
            ],
            "metadata": {
                "azdata_cell_guid": "5b65cca3-1f6e-4876-b9af-e91e3cbf9963",
                "extensions": {
                    "azuredatastudio": {
                        "views": []
                    }
                },
                "language": "python"
            },
            "outputs": [
                {
                    "output_type": "error",
                    "ename": "RemoteDataError",
                    "evalue": "Unable to read URL: https://finance.yahoo.com/quote/MSFT/history?period1=1577847600&period2=1630807199&interval=1d&frequency=1d&filter=history\nResponse Text:\nb'<!DOCTYPE html>\\n  <html lang=\"en-us\"><head>\\n  <meta http-equiv=\"content-type\" content=\"text/html; charset=UTF-8\">\\n      <meta charset=\"utf-8\">\\n      <title>Yahoo</title>\\n      <meta name=\"viewport\" content=\"width=device-width,initial-scale=1,minimal-ui\">\\n      <meta http-equiv=\"X-UA-Compatible\" content=\"IE=edge,chrome=1\">\\n      <style>\\n  html {\\n      height: 100%;\\n  }\\n  body {\\n      background: #fafafc url(https://s.yimg.com/nn/img/sad-panda-201402200631.png) 50% 50%;\\n      background-size: cover;\\n      height: 100%;\\n      text-align: center;\\n      font: 300 18px \"helvetica neue\", helvetica, verdana, tahoma, arial, sans-serif;\\n  }\\n  table {\\n      height: 100%;\\n      width: 100%;\\n      table-layout: fixed;\\n      border-collapse: collapse;\\n      border-spacing: 0;\\n      border: none;\\n  }\\n  h1 {\\n      font-size: 42px;\\n      font-weight: 400;\\n      color: #400090;\\n  }\\n  p {\\n      color: #1A1A1A;\\n  }\\n  #message-1 {\\n      font-weight: bold;\\n      margin: 0;\\n  }\\n  #message-2 {\\n      display: inline-block;\\n      *display: inline;\\n      zoom: 1;\\n      max-width: 17em;\\n      _width: 17em;\\n  }\\n      </style>\\n  <script>\\n    document.write(\\'<img src=\"//geo.yahoo.com/b?s=1197757129&t=\\'+new Date().getTime()+\\'&src=aws&err_url=\\'+encodeURIComponent(document.URL)+\\'&err=%<pssc>&test=\\'+encodeURIComponent(\\'%<{Bucket}cqh[:200]>\\')+\\'\" width=\"0px\" height=\"0px\"/>\\');var beacon = new Image();beacon.src=\"//bcn.fp.yahoo.com/p?s=1197757129&t=\"+new Date().getTime()+\"&src=aws&err_url=\"+encodeURIComponent(document.URL)+\"&err=%<pssc>&test=\"+encodeURIComponent(\\'%<{Bucket}cqh[:200]>\\');\\n  </script>\\n  </head>\\n  <body>\\n  <!-- status code : 404 -->\\n  <!-- Not Found on Server -->\\n  <table>\\n  <tbody><tr>\\n      <td>\\n      <img src=\"https://s.yimg.com/rz/p/yahoo_frontpage_en-US_s_f_p_205x58_frontpage.png\" alt=\"Yahoo Logo\">\\n      <h1 style=\"margin-top:20px;\">Will be right back...</h1>\\n      <p id=\"message-1\">Thank you for your patience.</p>\\n      <p id=\"message-2\">Our engineers are working quickly to resolve the issue.</p>\\n      </td>\\n  </tr>\\n  </tbody></table>\\n  </body></html>'",
                    "traceback": [
                        "\u001b[0;31m---------------------------------------------------------------------------\u001b[0m",
                        "\u001b[0;31mRemoteDataError\u001b[0m                           Traceback (most recent call last)",
                        "\u001b[0;32m<ipython-input-2-93e37f8a752f>\u001b[0m in \u001b[0;36m<module>\u001b[0;34m\u001b[0m\n\u001b[1;32m      6\u001b[0m \u001b[0msymbol\u001b[0m     \u001b[0;34m=\u001b[0m \u001b[0;34m'MSFT'\u001b[0m\u001b[0;34m\u001b[0m\u001b[0;34m\u001b[0m\u001b[0m\n\u001b[1;32m      7\u001b[0m \u001b[0;34m\u001b[0m\u001b[0m\n\u001b[0;32m----> 8\u001b[0;31m \u001b[0mdata\u001b[0m \u001b[0;34m=\u001b[0m \u001b[0mweb\u001b[0m\u001b[0;34m.\u001b[0m\u001b[0mDataReader\u001b[0m\u001b[0;34m(\u001b[0m\u001b[0msymbol\u001b[0m\u001b[0;34m,\u001b[0m \u001b[0;34m'yahoo'\u001b[0m\u001b[0;34m,\u001b[0m \u001b[0mstart_date\u001b[0m\u001b[0;34m,\u001b[0m \u001b[0mend_date\u001b[0m\u001b[0;34m)\u001b[0m\u001b[0;34m\u001b[0m\u001b[0;34m\u001b[0m\u001b[0m\n\u001b[0m\u001b[1;32m      9\u001b[0m \u001b[0;34m\u001b[0m\u001b[0m\n\u001b[1;32m     10\u001b[0m \u001b[0;31m#data.head(5)\u001b[0m\u001b[0;34m\u001b[0m\u001b[0;34m\u001b[0m\u001b[0;34m\u001b[0m\u001b[0m\n",
                        "\u001b[0;32m~/Library/Python/3.8/lib/python/site-packages/pandas/util/_decorators.py\u001b[0m in \u001b[0;36mwrapper\u001b[0;34m(*args, **kwargs)\u001b[0m\n\u001b[1;32m    197\u001b[0m                 \u001b[0;32melse\u001b[0m\u001b[0;34m:\u001b[0m\u001b[0;34m\u001b[0m\u001b[0;34m\u001b[0m\u001b[0m\n\u001b[1;32m    198\u001b[0m                     \u001b[0mkwargs\u001b[0m\u001b[0;34m[\u001b[0m\u001b[0mnew_arg_name\u001b[0m\u001b[0;34m]\u001b[0m \u001b[0;34m=\u001b[0m \u001b[0mnew_arg_value\u001b[0m\u001b[0;34m\u001b[0m\u001b[0;34m\u001b[0m\u001b[0m\n\u001b[0;32m--> 199\u001b[0;31m             \u001b[0;32mreturn\u001b[0m \u001b[0mfunc\u001b[0m\u001b[0;34m(\u001b[0m\u001b[0;34m*\u001b[0m\u001b[0margs\u001b[0m\u001b[0;34m,\u001b[0m \u001b[0;34m**\u001b[0m\u001b[0mkwargs\u001b[0m\u001b[0;34m)\u001b[0m\u001b[0;34m\u001b[0m\u001b[0;34m\u001b[0m\u001b[0m\n\u001b[0m\u001b[1;32m    200\u001b[0m \u001b[0;34m\u001b[0m\u001b[0m\n\u001b[1;32m    201\u001b[0m         \u001b[0;32mreturn\u001b[0m \u001b[0mcast\u001b[0m\u001b[0;34m(\u001b[0m\u001b[0mF\u001b[0m\u001b[0;34m,\u001b[0m \u001b[0mwrapper\u001b[0m\u001b[0;34m)\u001b[0m\u001b[0;34m\u001b[0m\u001b[0;34m\u001b[0m\u001b[0m\n",
                        "\u001b[0;32m/usr/local/lib/python3.8/site-packages/pandas_datareader/data.py\u001b[0m in \u001b[0;36mDataReader\u001b[0;34m(name, data_source, start, end, retry_count, pause, session, api_key)\u001b[0m\n\u001b[1;32m    374\u001b[0m \u001b[0;34m\u001b[0m\u001b[0m\n\u001b[1;32m    375\u001b[0m     \u001b[0;32mif\u001b[0m \u001b[0mdata_source\u001b[0m \u001b[0;34m==\u001b[0m \u001b[0;34m\"yahoo\"\u001b[0m\u001b[0;34m:\u001b[0m\u001b[0;34m\u001b[0m\u001b[0;34m\u001b[0m\u001b[0m\n\u001b[0;32m--> 376\u001b[0;31m         return YahooDailyReader(\n\u001b[0m\u001b[1;32m    377\u001b[0m             \u001b[0msymbols\u001b[0m\u001b[0;34m=\u001b[0m\u001b[0mname\u001b[0m\u001b[0;34m,\u001b[0m\u001b[0;34m\u001b[0m\u001b[0;34m\u001b[0m\u001b[0m\n\u001b[1;32m    378\u001b[0m             \u001b[0mstart\u001b[0m\u001b[0;34m=\u001b[0m\u001b[0mstart\u001b[0m\u001b[0;34m,\u001b[0m\u001b[0;34m\u001b[0m\u001b[0;34m\u001b[0m\u001b[0m\n",
                        "\u001b[0;32m/usr/local/lib/python3.8/site-packages/pandas_datareader/base.py\u001b[0m in \u001b[0;36mread\u001b[0;34m(self)\u001b[0m\n\u001b[1;32m    251\u001b[0m         \u001b[0;31m# If a single symbol, (e.g., 'GOOG')\u001b[0m\u001b[0;34m\u001b[0m\u001b[0;34m\u001b[0m\u001b[0;34m\u001b[0m\u001b[0m\n\u001b[1;32m    252\u001b[0m         \u001b[0;32mif\u001b[0m \u001b[0misinstance\u001b[0m\u001b[0;34m(\u001b[0m\u001b[0mself\u001b[0m\u001b[0;34m.\u001b[0m\u001b[0msymbols\u001b[0m\u001b[0;34m,\u001b[0m \u001b[0;34m(\u001b[0m\u001b[0mstring_types\u001b[0m\u001b[0;34m,\u001b[0m \u001b[0mint\u001b[0m\u001b[0;34m)\u001b[0m\u001b[0;34m)\u001b[0m\u001b[0;34m:\u001b[0m\u001b[0;34m\u001b[0m\u001b[0;34m\u001b[0m\u001b[0m\n\u001b[0;32m--> 253\u001b[0;31m             \u001b[0mdf\u001b[0m \u001b[0;34m=\u001b[0m \u001b[0mself\u001b[0m\u001b[0;34m.\u001b[0m\u001b[0m_read_one_data\u001b[0m\u001b[0;34m(\u001b[0m\u001b[0mself\u001b[0m\u001b[0;34m.\u001b[0m\u001b[0murl\u001b[0m\u001b[0;34m,\u001b[0m \u001b[0mparams\u001b[0m\u001b[0;34m=\u001b[0m\u001b[0mself\u001b[0m\u001b[0;34m.\u001b[0m\u001b[0m_get_params\u001b[0m\u001b[0;34m(\u001b[0m\u001b[0mself\u001b[0m\u001b[0;34m.\u001b[0m\u001b[0msymbols\u001b[0m\u001b[0;34m)\u001b[0m\u001b[0;34m)\u001b[0m\u001b[0;34m\u001b[0m\u001b[0;34m\u001b[0m\u001b[0m\n\u001b[0m\u001b[1;32m    254\u001b[0m         \u001b[0;31m# Or multiple symbols, (e.g., ['GOOG', 'AAPL', 'MSFT'])\u001b[0m\u001b[0;34m\u001b[0m\u001b[0;34m\u001b[0m\u001b[0;34m\u001b[0m\u001b[0m\n\u001b[1;32m    255\u001b[0m         \u001b[0;32melif\u001b[0m \u001b[0misinstance\u001b[0m\u001b[0;34m(\u001b[0m\u001b[0mself\u001b[0m\u001b[0;34m.\u001b[0m\u001b[0msymbols\u001b[0m\u001b[0;34m,\u001b[0m \u001b[0mDataFrame\u001b[0m\u001b[0;34m)\u001b[0m\u001b[0;34m:\u001b[0m\u001b[0;34m\u001b[0m\u001b[0;34m\u001b[0m\u001b[0m\n",
                        "\u001b[0;32m/usr/local/lib/python3.8/site-packages/pandas_datareader/yahoo/daily.py\u001b[0m in \u001b[0;36m_read_one_data\u001b[0;34m(self, url, params)\u001b[0m\n\u001b[1;32m    151\u001b[0m         \u001b[0murl\u001b[0m \u001b[0;34m=\u001b[0m \u001b[0murl\u001b[0m\u001b[0;34m.\u001b[0m\u001b[0mformat\u001b[0m\u001b[0;34m(\u001b[0m\u001b[0msymbol\u001b[0m\u001b[0;34m)\u001b[0m\u001b[0;34m\u001b[0m\u001b[0;34m\u001b[0m\u001b[0m\n\u001b[1;32m    152\u001b[0m \u001b[0;34m\u001b[0m\u001b[0m\n\u001b[0;32m--> 153\u001b[0;31m         \u001b[0mresp\u001b[0m \u001b[0;34m=\u001b[0m \u001b[0mself\u001b[0m\u001b[0;34m.\u001b[0m\u001b[0m_get_response\u001b[0m\u001b[0;34m(\u001b[0m\u001b[0murl\u001b[0m\u001b[0;34m,\u001b[0m \u001b[0mparams\u001b[0m\u001b[0;34m=\u001b[0m\u001b[0mparams\u001b[0m\u001b[0;34m)\u001b[0m\u001b[0;34m\u001b[0m\u001b[0;34m\u001b[0m\u001b[0m\n\u001b[0m\u001b[1;32m    154\u001b[0m         \u001b[0mptrn\u001b[0m \u001b[0;34m=\u001b[0m \u001b[0;34mr\"root\\.App\\.main = (.*?);\\n}\\(this\\)\\);\"\u001b[0m\u001b[0;34m\u001b[0m\u001b[0;34m\u001b[0m\u001b[0m\n\u001b[1;32m    155\u001b[0m         \u001b[0;32mtry\u001b[0m\u001b[0;34m:\u001b[0m\u001b[0;34m\u001b[0m\u001b[0;34m\u001b[0m\u001b[0m\n",
                        "\u001b[0;32m/usr/local/lib/python3.8/site-packages/pandas_datareader/base.py\u001b[0m in \u001b[0;36m_get_response\u001b[0;34m(self, url, params, headers)\u001b[0m\n\u001b[1;32m    179\u001b[0m             \u001b[0mmsg\u001b[0m \u001b[0;34m+=\u001b[0m \u001b[0;34m\"\\nResponse Text:\\n{0}\"\u001b[0m\u001b[0;34m.\u001b[0m\u001b[0mformat\u001b[0m\u001b[0;34m(\u001b[0m\u001b[0mlast_response_text\u001b[0m\u001b[0;34m)\u001b[0m\u001b[0;34m\u001b[0m\u001b[0;34m\u001b[0m\u001b[0m\n\u001b[1;32m    180\u001b[0m \u001b[0;34m\u001b[0m\u001b[0m\n\u001b[0;32m--> 181\u001b[0;31m         \u001b[0;32mraise\u001b[0m \u001b[0mRemoteDataError\u001b[0m\u001b[0;34m(\u001b[0m\u001b[0mmsg\u001b[0m\u001b[0;34m)\u001b[0m\u001b[0;34m\u001b[0m\u001b[0;34m\u001b[0m\u001b[0m\n\u001b[0m\u001b[1;32m    182\u001b[0m \u001b[0;34m\u001b[0m\u001b[0m\n\u001b[1;32m    183\u001b[0m     \u001b[0;32mdef\u001b[0m \u001b[0m_get_crumb\u001b[0m\u001b[0;34m(\u001b[0m\u001b[0mself\u001b[0m\u001b[0;34m,\u001b[0m \u001b[0;34m*\u001b[0m\u001b[0margs\u001b[0m\u001b[0;34m)\u001b[0m\u001b[0;34m:\u001b[0m\u001b[0;34m\u001b[0m\u001b[0;34m\u001b[0m\u001b[0m\n",
                        "\u001b[0;31mRemoteDataError\u001b[0m: Unable to read URL: https://finance.yahoo.com/quote/MSFT/history?period1=1577847600&period2=1630807199&interval=1d&frequency=1d&filter=history\nResponse Text:\nb'<!DOCTYPE html>\\n  <html lang=\"en-us\"><head>\\n  <meta http-equiv=\"content-type\" content=\"text/html; charset=UTF-8\">\\n      <meta charset=\"utf-8\">\\n      <title>Yahoo</title>\\n      <meta name=\"viewport\" content=\"width=device-width,initial-scale=1,minimal-ui\">\\n      <meta http-equiv=\"X-UA-Compatible\" content=\"IE=edge,chrome=1\">\\n      <style>\\n  html {\\n      height: 100%;\\n  }\\n  body {\\n      background: #fafafc url(https://s.yimg.com/nn/img/sad-panda-201402200631.png) 50% 50%;\\n      background-size: cover;\\n      height: 100%;\\n      text-align: center;\\n      font: 300 18px \"helvetica neue\", helvetica, verdana, tahoma, arial, sans-serif;\\n  }\\n  table {\\n      height: 100%;\\n      width: 100%;\\n      table-layout: fixed;\\n      border-collapse: collapse;\\n      border-spacing: 0;\\n      border: none;\\n  }\\n  h1 {\\n      font-size: 42px;\\n      font-weight: 400;\\n      color: #400090;\\n  }\\n  p {\\n      color: #1A1A1A;\\n  }\\n  #message-1 {\\n      font-weight: bold;\\n      margin: 0;\\n  }\\n  #message-2 {\\n      display: inline-block;\\n      *display: inline;\\n      zoom: 1;\\n      max-width: 17em;\\n      _width: 17em;\\n  }\\n      </style>\\n  <script>\\n    document.write(\\'<img src=\"//geo.yahoo.com/b?s=1197757129&t=\\'+new Date().getTime()+\\'&src=aws&err_url=\\'+encodeURIComponent(document.URL)+\\'&err=%<pssc>&test=\\'+encodeURIComponent(\\'%<{Bucket}cqh[:200]>\\')+\\'\" width=\"0px\" height=\"0px\"/>\\');var beacon = new Image();beacon.src=\"//bcn.fp.yahoo.com/p?s=1197757129&t=\"+new Date().getTime()+\"&src=aws&err_url=\"+encodeURIComponent(document.URL)+\"&err=%<pssc>&test=\"+encodeURIComponent(\\'%<{Bucket}cqh[:200]>\\');\\n  </script>\\n  </head>\\n  <body>\\n  <!-- status code : 404 -->\\n  <!-- Not Found on Server -->\\n  <table>\\n  <tbody><tr>\\n      <td>\\n      <img src=\"https://s.yimg.com/rz/p/yahoo_frontpage_en-US_s_f_p_205x58_frontpage.png\" alt=\"Yahoo Logo\">\\n      <h1 style=\"margin-top:20px;\">Will be right back...</h1>\\n      <p id=\"message-1\">Thank you for your patience.</p>\\n      <p id=\"message-2\">Our engineers are working quickly to resolve the issue.</p>\\n      </td>\\n  </tr>\\n  </tbody></table>\\n  </body></html>'"
                    ]
                }
            ],
            "execution_count": 2
        },
        {
            "cell_type": "markdown",
            "source": [
                "## Che cosa fare con i dati scaricati ?\n",
                "\n",
                "Una volta scaricati i dati storici di un azione o ETF si possono calcolare alcuni indicatori che sono alla base delle più comuni strategie di trading.\n",
                "\n",
                "Quelli che utilizzeremo in questi esempi sono:\n",
                "\n",
                "\\- Media mobile esponenziale (Exponential Mobile Average, EMA)\n",
                "\n",
                "\\- Media mobile semplice (Simple Moving Average, SMA)\n",
                "\n",
                "\\- Convergenza e divergenza di medie mobili (Moving average convergence divergence, MACD) [Wikipedia](https://it.wikipedia.org/wiki/MACD)\n",
                "\n",
                "\\- Bande di Bollinger"
            ],
            "metadata": {
                "azdata_cell_guid": "ca8bc162-2e05-4030-b285-c5b9a820a76f",
                "extensions": {
                    "azuredatastudio": {
                        "views": []
                    }
                }
            }
        },
        {
            "cell_type": "code",
            "source": [
                "#\r\n",
                "# Demo - Calcolo gli indicatori statistici\r\n",
                "#\r\n",
                "\r\n",
                "data.reset_index(inplace=True,drop=False)\r\n",
                "\r\n",
                "# Medie mobili a 12 e 26 giorni\r\n",
                "data['12d_EMA'] = data.Close.ewm(span=12, adjust=False).mean()\r\n",
                "data['26d_EMA'] = data.Close.ewm(span=26, adjust=False).mean()\r\n",
                "\r\n",
                "# Bollinger bands\r\n",
                "data['20d_SMA'] = data['Close'].rolling(window=20).mean()\r\n",
                "data['20d_STD'] = data['Close'].rolling(window=20).std()\r\n",
                "data['Bollinger_H'] = data['20d_SMA'] + (data['20d_STD'] * 2)\r\n",
                "data['Bollinger_L'] = data['20d_SMA'] - (data['20d_STD'] * 2)\r\n",
                "\r\n",
                "# MACD\r\n",
                "data['macd'] = data['12d_EMA'] - data['26d_EMA'] \r\n",
                "data['macdsignal'] = data.macd.ewm(span=9, adjust=False).mean()\r\n",
                "data['trading_signal'] = np.where(data['macd'] >= data['macdsignal'], 1, -1)\r\n",
                "\r\n",
                "data.tail(5)"
            ],
            "metadata": {
                "azdata_cell_guid": "f305185b-353c-412f-a4cc-ebf84c2d995d",
                "extensions": {
                    "azuredatastudio": {
                        "views": []
                    }
                },
                "language": "python"
            },
            "outputs": [],
            "execution_count": null
        },
        {
            "cell_type": "markdown",
            "source": [
                "## Plotting dei dati\n",
                "\n",
                "Non è proprio facilissimo leggere la tabella appena vista, giusto?  \n",
                "Allora per semplificarci la vita ed avere un \"colpo d'occhio\" più efficace nel capire se è il momento di acquistare o di vendere un bel grafico è quello che ci vuole!\n",
                "\n",
                "La libreria **matplotlib** ci fornisce la possibilità di creare grafici in modo molto semplice e veloce..."
            ],
            "metadata": {
                "azdata_cell_guid": "f756e1a4-71e6-4434-a902-25a04a76006d",
                "extensions": {
                    "azuredatastudio": {
                        "views": []
                    }
                }
            }
        },
        {
            "cell_type": "code",
            "source": [
                "#\r\n",
                "# Demo - Plot degli indicatori usando la libreria matplotlib\r\n",
                "#\r\n",
                "import matplotlib.pyplot as plt\r\n",
                "\r\n",
                "data_to_plot = data #data.iloc[-30:]\r\n",
                "\r\n",
                "plt.style.use('seaborn-muted')\r\n",
                "\r\n",
                "fig, ax = plt.subplots(1, 2, figsize=(28, 10))\r\n",
                "\r\n",
                "ax[0].set(title = 'Indicators - ' + symbol, ylabel = 'Price in Euros', xlabel = 'Date')\r\n",
                "data_to_plot[['Date','Close','12d_EMA','26d_EMA','Bollinger_H','Bollinger_L']].plot(ax=ax[0], x='Date')\r\n",
                "\r\n",
                "ax[1].set_title('MACD - ' + symbol)\r\n",
                "data_to_plot[['Date','macd','macdsignal']].plot(ax=ax[1], x='Date')\r\n",
                "\r\n",
                "plt.legend()\r\n",
                "\r\n",
                "#filename = basePath + ticker + '_1.png'\r\n",
                "#plt.savefig(filename)\r\n",
                "\r\n",
                "plt.show()"
            ],
            "metadata": {
                "azdata_cell_guid": "10224aa4-5953-4980-9041-1c9e66b2b984",
                "extensions": {
                    "azuredatastudio": {
                        "views": []
                    }
                },
                "language": "python"
            },
            "outputs": [],
            "execution_count": null
        },
        {
            "cell_type": "markdown",
            "source": [
                "Oppure posso utilizzare la libreria **Plotly**, più interattiva e con alcune tipologie di grafici già pronte all'uso per i dati finanziari (es. i grafici candlestick)"
            ],
            "metadata": {
                "azdata_cell_guid": "b483fa7c-ad09-4a4f-8ccb-6e7672a81f0b",
                "extensions": {
                    "azuredatastudio": {
                        "views": []
                    }
                }
            }
        },
        {
            "cell_type": "code",
            "source": [
                "#\r\n",
                "# Demo - Plot degli indcatori usando la libreria Plotly\r\n",
                "#\r\n",
                "from plotly.subplots import make_subplots\r\n",
                "import plotly.graph_objects as go\r\n",
                "\r\n",
                "# Creo il grafico per gli ultimi 90 giorni\r\n",
                "data_to_plot = data.iloc[-90:]\r\n",
                "\r\n",
                "# Imposto la data come indice del dataframe\r\n",
                "data_to_plot.set_index('Date', inplace=True)\r\n",
                "\r\n",
                "# Creo tre grafici, in verticale, di altezza variabile\r\n",
                "fig = make_subplots(rows=3,\r\n",
                "                    cols=1,\r\n",
                "                    shared_xaxes=True,\r\n",
                "                    vertical_spacing=0.02,\r\n",
                "                    row_width=[0.1, 0.1, 0.8]\r\n",
                "                    )\r\n",
                "\r\n",
                "# Primo grafico: candlestick con i dati di minimo, massimo, apertura e chiusura degli scambi\r\n",
                "fig.add_trace(\r\n",
                "    go.Candlestick(\r\n",
                "        x=data_to_plot.index,\r\n",
                "        low=data_to_plot['Low'],\r\n",
                "        high=data_to_plot['High'],\r\n",
                "        close=data_to_plot['Close'],\r\n",
                "        open=data_to_plot['Open'],\r\n",
                "        increasing_line_color='green',\r\n",
                "        decreasing_line_color='red'\r\n",
                "    ),\r\n",
                "    row=1,\r\n",
                "    col=1\r\n",
                ")\r\n",
                "\r\n",
                "# Secondo grafico: volume degli scambi del titolo\r\n",
                "fig.add_trace(go.Bar(x=data_to_plot.index, y=data_to_plot['Volume']), row=2, col=1)\r\n",
                "\r\n",
                "# Terzo grafico: segnale di trading calcolato sull'indicatore MACD visto in precedenza\r\n",
                "fig.add_trace(go.Bar(x=data_to_plot.index, y=data_to_plot['trading_signal']), row=3, col=1)\r\n",
                "\r\n",
                "# Impostazioni grafico\r\n",
                "fig.layout.xaxis1.type = 'category'\r\n",
                "fig.layout.xaxis2.type = 'category'\r\n",
                "fig.layout.xaxis3.type = 'category'\r\n",
                "\r\n",
                "today = datetime.datetime.today().strftime(\"%d-%m-%Y\")\r\n",
                "title = \"Interactive CandleStick & Volume Chart {symbol} - {date}\".format(symbol=symbol, date=today)\r\n",
                "\r\n",
                "fig.update_layout(title=title,\r\n",
                "                yaxis1_title='Close (€)',\r\n",
                "                yaxis2_title='Volume (M)',\r\n",
                "                xaxis2_title='Time',\r\n",
                "                xaxis1_rangeslider_visible=False,\r\n",
                "                xaxis2_rangeslider_visible=False)\r\n",
                "\r\n",
                "# Visualizzo il grafico\r\n",
                "fig.show()\r\n",
                "\r\n",
                "# Se voglio, posso salvare il grafico (statico) in formato png/jpeg/tiff\r\n",
                "#filename = \"./images/%s.png\" % symbol\r\n",
                "#fig.write_image(filename, width=1024, height=800, scale=2)\r\n",
                ""
            ],
            "metadata": {
                "azdata_cell_guid": "855fcefb-2922-4e62-9ea6-293e8b0fb5b7",
                "extensions": {
                    "azuredatastudio": {
                        "views": []
                    }
                },
                "language": "python"
            },
            "outputs": [],
            "execution_count": null
        },
        {
            "cell_type": "markdown",
            "source": [
                "## Bene, e ora?\n",
                "\n",
                "Fin qui tutto chiaro? Bene.\n",
                "\n",
                "Ora viene la parte più divertente, memorizzare i dati su SQL Server ed attingere dal database per leggere i dati, calcolare indicatori e magari generare notifiche quando cambia il trading signal di un azione o ETF.\n",
                "\n",
                "  \n",
                "\n",
                "Let's go!"
            ],
            "metadata": {
                "azdata_cell_guid": "a309525c-7197-4605-be4f-59d9cecc6cec",
                "extensions": {
                    "azuredatastudio": {
                        "views": []
                    }
                }
            }
        }
    ]
}