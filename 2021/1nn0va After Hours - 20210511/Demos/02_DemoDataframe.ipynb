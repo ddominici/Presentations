{
    "metadata": {
        "kernelspec": {
            "name": "python3",
            "display_name": "Python 3",
            "language": "python"
        },
        "language_info": {
            "name": "python",
            "version": "3.8.6",
            "mimetype": "text/x-python",
            "codemirror_mode": {
                "name": "ipython",
                "version": 3
            },
            "pygments_lexer": "ipython3",
            "nbconvert_exporter": "python",
            "file_extension": ".py"
        },
        "extensions": {
            "azuredatastudio": {
                "version": 1,
                "views": []
            }
        }
    },
    "nbformat_minor": 2,
    "nbformat": 4,
    "cells": [
        {
            "cell_type": "markdown",
            "source": [
                "# Pandas crash course\n",
                "\n",
                "Qualche esempio di come utilizzare i dataframe della libreria Pandas in Python"
            ],
            "metadata": {
                "azdata_cell_guid": "17cae53a-e681-4c8d-ada3-a3c77a2bc62a",
                "extensions": {
                    "azuredatastudio": {
                        "views": []
                    }
                }
            }
        },
        {
            "cell_type": "code",
            "source": [
                "import pandas as pd"
            ],
            "metadata": {
                "azdata_cell_guid": "66eef636-2968-4e11-a97d-abcf0bfc90a9",
                "extensions": {
                    "azuredatastudio": {
                        "views": []
                    }
                }
            },
            "outputs": [],
            "execution_count": null
        },
        {
            "cell_type": "code",
            "source": [
                "#\r\n",
                "# Creare un dataframe da un dizionario\r\n",
                "#\r\n",
                "data = {\r\n",
                "    'Open': [250.87, 252.15, 246.45, 249.06, 250.97, 253.40],\r\n",
                "    'High': [251.73, 254.30, 249.86, 249.50, 251.21, 254.35],\r\n",
                "    'Low': [247.12, 251.17, 244.69, 245.82, 245.76, 254.35],\r\n",
                "    'Close': [247.18, 252.46, 249.73, 246.47, 247.79, 251.86],\r\n",
                "    'Adj Close': [247.18, 252.46, 249.73, 246.47, 247.79, 251.86],\r\n",
                "    'Volume': [29273400, 27010100, 26491100, 21901300, 32756100, 19626600]\r\n",
                "}\r\n",
                "\r\n",
                "row_labels = ['2021-05-10', '2021-05-07', '2021-05-06', '2021-05-05', '2021-05-04', '2021-05-03']\r\n",
                "\r\n",
                "df = pd.DataFrame(data=data, index=row_labels)\r\n",
                "df"
            ],
            "metadata": {
                "azdata_cell_guid": "b8c4bba2-3d97-4f77-908f-0d30e8254b33",
                "extensions": {
                    "azuredatastudio": {
                        "views": []
                    }
                }
            },
            "outputs": [],
            "execution_count": null
        },
        {
            "cell_type": "code",
            "source": [
                "#\r\n",
                "# Visualizzare solo le prime n righe\r\n",
                "#\r\n",
                "df.head(2)"
            ],
            "metadata": {
                "azdata_cell_guid": "bb61b5a6-3521-42e5-93f3-016bed3e12c8",
                "extensions": {
                    "azuredatastudio": {
                        "views": []
                    }
                }
            },
            "outputs": [
                {
                    "data": {
                        "text/plain": "              Open    High     Low   Close  Adj Close    Volume\n2021-05-10  250.87  251.73  247.12  247.18     247.18  29273400\n2021-05-07  252.15  254.30  251.17  252.46     252.46  27010100",
                        "text/html": "<div>\n<style scoped>\n    .dataframe tbody tr th:only-of-type {\n        vertical-align: middle;\n    }\n\n    .dataframe tbody tr th {\n        vertical-align: top;\n    }\n\n    .dataframe thead th {\n        text-align: right;\n    }\n</style>\n<table border=\"1\" class=\"dataframe\">\n  <thead>\n    <tr style=\"text-align: right;\">\n      <th></th>\n      <th>Open</th>\n      <th>High</th>\n      <th>Low</th>\n      <th>Close</th>\n      <th>Adj Close</th>\n      <th>Volume</th>\n    </tr>\n  </thead>\n  <tbody>\n    <tr>\n      <th>2021-05-10</th>\n      <td>250.87</td>\n      <td>251.73</td>\n      <td>247.12</td>\n      <td>247.18</td>\n      <td>247.18</td>\n      <td>29273400</td>\n    </tr>\n    <tr>\n      <th>2021-05-07</th>\n      <td>252.15</td>\n      <td>254.30</td>\n      <td>251.17</td>\n      <td>252.46</td>\n      <td>252.46</td>\n      <td>27010100</td>\n    </tr>\n  </tbody>\n</table>\n</div>"
                    },
                    "metadata": {},
                    "execution_count": 5,
                    "output_type": "execute_result"
                }
            ],
            "execution_count": 5
        },
        {
            "cell_type": "code",
            "source": [
                "#\r\n",
                "# Visualizzare solo le ultime n righe\r\n",
                "#\r\n",
                "df.tail(2)"
            ],
            "metadata": {
                "azdata_cell_guid": "27177070-4024-4e27-a07c-65f2bcb4ae4f",
                "extensions": {
                    "azuredatastudio": {
                        "views": []
                    }
                }
            },
            "outputs": [
                {
                    "data": {
                        "text/plain": "              Open    High     Low   Close  Adj Close    Volume\n2021-05-04  250.97  251.21  245.76  247.79     247.79  32756100\n2021-05-03  253.40  254.35  254.35  251.86     251.86  19626600",
                        "text/html": "<div>\n<style scoped>\n    .dataframe tbody tr th:only-of-type {\n        vertical-align: middle;\n    }\n\n    .dataframe tbody tr th {\n        vertical-align: top;\n    }\n\n    .dataframe thead th {\n        text-align: right;\n    }\n</style>\n<table border=\"1\" class=\"dataframe\">\n  <thead>\n    <tr style=\"text-align: right;\">\n      <th></th>\n      <th>Open</th>\n      <th>High</th>\n      <th>Low</th>\n      <th>Close</th>\n      <th>Adj Close</th>\n      <th>Volume</th>\n    </tr>\n  </thead>\n  <tbody>\n    <tr>\n      <th>2021-05-04</th>\n      <td>250.97</td>\n      <td>251.21</td>\n      <td>245.76</td>\n      <td>247.79</td>\n      <td>247.79</td>\n      <td>32756100</td>\n    </tr>\n    <tr>\n      <th>2021-05-03</th>\n      <td>253.40</td>\n      <td>254.35</td>\n      <td>254.35</td>\n      <td>251.86</td>\n      <td>251.86</td>\n      <td>19626600</td>\n    </tr>\n  </tbody>\n</table>\n</div>"
                    },
                    "metadata": {},
                    "execution_count": 7,
                    "output_type": "execute_result"
                }
            ],
            "execution_count": 7
        },
        {
            "cell_type": "code",
            "source": [
                "closes = df[\"Close\"]\r\n",
                "closes"
            ],
            "metadata": {
                "azdata_cell_guid": "3896bb27-5cd4-402e-816f-fa57e410ab1a",
                "extensions": {
                    "azuredatastudio": {
                        "views": []
                    }
                },
                "tags": [
                    "hide_input"
                ]
            },
            "outputs": [
                {
                    "data": {
                        "text/plain": "2021-05-10    247.18\n2021-05-07    252.46\n2021-05-06    249.73\n2021-05-05    246.47\n2021-05-04    247.79\n2021-05-03    251.86\nName: Close, dtype: float64"
                    },
                    "metadata": {},
                    "execution_count": 8,
                    "output_type": "execute_result"
                }
            ],
            "execution_count": 8
        },
        {
            "cell_type": "code",
            "source": [
                "#\r\n",
                "# Usare la dot notation per selezionare la singola colonna\r\n",
                "#\r\n",
                "df.Close"
            ],
            "metadata": {
                "azdata_cell_guid": "4a037590-0022-4567-a231-85d6985d9098",
                "extensions": {
                    "azuredatastudio": {
                        "views": []
                    }
                }
            },
            "outputs": [
                {
                    "data": {
                        "text/plain": "2021-05-10    247.18\n2021-05-07    252.46\n2021-05-06    249.73\n2021-05-05    246.47\n2021-05-04    247.79\n2021-05-03    251.86\nName: Close, dtype: float64"
                    },
                    "metadata": {},
                    "execution_count": 9,
                    "output_type": "execute_result"
                }
            ],
            "execution_count": 9
        },
        {
            "cell_type": "code",
            "source": [
                "#\r\n",
                "# Selezionare le righe per valore dell'indice\r\n",
                "#\r\n",
                "df.loc['2021-05-03']"
            ],
            "metadata": {
                "azdata_cell_guid": "1e84f33c-df3f-4895-b63a-f4734ba06896",
                "extensions": {
                    "azuredatastudio": {
                        "views": []
                    }
                }
            },
            "outputs": [],
            "execution_count": null
        },
        {
            "cell_type": "code",
            "source": [
                "#\r\n",
                "# Selezionare le righe in maniera posizionale\r\n",
                "#\r\n",
                "df.iloc[-2:]"
            ],
            "metadata": {
                "azdata_cell_guid": "35865b36-aec9-4e67-94c6-eba6f3351d7f",
                "extensions": {
                    "azuredatastudio": {
                        "views": []
                    }
                }
            },
            "outputs": [],
            "execution_count": null
        },
        {
            "cell_type": "code",
            "source": [
                "#\r\n",
                "# Esportare il dataframe in un file CSV\r\n",
                "#\r\n",
                "df.to_csv('data.csv')"
            ],
            "metadata": {
                "azdata_cell_guid": "b0880075-b724-4667-a10d-620dbf786b5a",
                "extensions": {
                    "azuredatastudio": {
                        "views": []
                    }
                }
            },
            "outputs": [],
            "execution_count": 11
        },
        {
            "cell_type": "code",
            "source": [
                "#\r\n",
                "# Rileggere il file CSV#\r\n",
                "#\r\n",
                "pd.read_csv('data.csv', index_col=0)"
            ],
            "metadata": {
                "azdata_cell_guid": "b6aebfe7-d471-42bd-9059-87304303ee97",
                "tags": [],
                "extensions": {
                    "azuredatastudio": {
                        "views": []
                    }
                }
            },
            "outputs": [
{
    "data": {
        "text/plain": "              Open    High     Low   Close  Adj Close    Volume\n2021-05-10  250.87  251.73  247.12  247.18     247.18  29273400\n2021-05-07  252.15  254.30  251.17  252.46     252.46  27010100\n2021-05-06  246.45  249.86  244.69  249.73     249.73  26491100\n2021-05-05  249.06  249.50  245.82  246.47     246.47  21901300\n2021-05-04  250.97  251.21  245.76  247.79     247.79  32756100\n2021-05-03  253.40  254.35  254.35  251.86     251.86  19626600",
        "text/html": "<div>\n<style scoped>\n    .dataframe tbody tr th:only-of-type {\n        vertical-align: middle;\n    }\n\n    .dataframe tbody tr th {\n        vertical-align: top;\n    }\n\n    .dataframe thead th {\n        text-align: right;\n    }\n</style>\n<table border=\"1\" class=\"dataframe\">\n  <thead>\n    <tr style=\"text-align: right;\">\n      <th></th>\n      <th>Open</th>\n      <th>High</th>\n      <th>Low</th>\n      <th>Close</th>\n      <th>Adj Close</th>\n      <th>Volume</th>\n    </tr>\n  </thead>\n  <tbody>\n    <tr>\n      <th>2021-05-10</th>\n      <td>250.87</td>\n      <td>251.73</td>\n      <td>247.12</td>\n      <td>247.18</td>\n      <td>247.18</td>\n      <td>29273400</td>\n    </tr>\n    <tr>\n      <th>2021-05-07</th>\n      <td>252.15</td>\n      <td>254.30</td>\n      <td>251.17</td>\n      <td>252.46</td>\n      <td>252.46</td>\n      <td>27010100</td>\n    </tr>\n    <tr>\n      <th>2021-05-06</th>\n      <td>246.45</td>\n      <td>249.86</td>\n      <td>244.69</td>\n      <td>249.73</td>\n      <td>249.73</td>\n      <td>26491100</td>\n    </tr>\n    <tr>\n      <th>2021-05-05</th>\n      <td>249.06</td>\n      <td>249.50</td>\n      <td>245.82</td>\n      <td>246.47</td>\n      <td>246.47</td>\n      <td>21901300</td>\n    </tr>\n    <tr>\n      <th>2021-05-04</th>\n      <td>250.97</td>\n      <td>251.21</td>\n      <td>245.76</td>\n      <td>247.79</td>\n      <td>247.79</td>\n      <td>32756100</td>\n    </tr>\n    <tr>\n      <th>2021-05-03</th>\n      <td>253.40</td>\n      <td>254.35</td>\n      <td>254.35</td>\n      <td>251.86</td>\n      <td>251.86</td>\n      <td>19626600</td>\n    </tr>\n  </tbody>\n</table>\n</div>"
    },
    "metadata": {},
    "execution_count": 12,
    "output_type": "execute_result"
}
],
            "execution_count": 12
        },
        {
            "cell_type": "code",
            "source": [
                "#\r\n",
                "# Calcolare la differenza con la riga precedente di una colonna\r\n",
                "#\r\n",
                "df['Var'] = df[['Close']] - df[['Close']].shift(-1)\r\n",
                "df['VarPerc'] = (df[['Close']] / df[['Close']].shift(-1)) * 100 - 100\r\n",
                "df"
            ],
            "metadata": {
                "azdata_cell_guid": "7acb8cff-8e72-400e-a787-e966c0c1f061",
                "tags": [],
                "extensions": {
                    "azuredatastudio": {
                        "views": []
                    }
                }
            },
            "outputs": [
{
    "data": {
        "text/plain": "              Open    High     Low   Close  Adj Close    Volume   Var  \\\n2021-05-10  250.87  251.73  247.12  247.18     247.18  29273400 -5.28   \n2021-05-07  252.15  254.30  251.17  252.46     252.46  27010100  2.73   \n2021-05-06  246.45  249.86  244.69  249.73     249.73  26491100  3.26   \n2021-05-05  249.06  249.50  245.82  246.47     246.47  21901300 -1.32   \n2021-05-04  250.97  251.21  245.76  247.79     247.79  32756100 -4.07   \n2021-05-03  253.40  254.35  254.35  251.86     251.86  19626600   NaN   \n\n             VarPerc  \n2021-05-10 -2.091420  \n2021-05-07  1.093181  \n2021-05-06  1.322676  \n2021-05-05 -0.532709  \n2021-05-04 -1.615977  \n2021-05-03       NaN  ",
        "text/html": "<div>\n<style scoped>\n    .dataframe tbody tr th:only-of-type {\n        vertical-align: middle;\n    }\n\n    .dataframe tbody tr th {\n        vertical-align: top;\n    }\n\n    .dataframe thead th {\n        text-align: right;\n    }\n</style>\n<table border=\"1\" class=\"dataframe\">\n  <thead>\n    <tr style=\"text-align: right;\">\n      <th></th>\n      <th>Open</th>\n      <th>High</th>\n      <th>Low</th>\n      <th>Close</th>\n      <th>Adj Close</th>\n      <th>Volume</th>\n      <th>Var</th>\n      <th>VarPerc</th>\n    </tr>\n  </thead>\n  <tbody>\n    <tr>\n      <th>2021-05-10</th>\n      <td>250.87</td>\n      <td>251.73</td>\n      <td>247.12</td>\n      <td>247.18</td>\n      <td>247.18</td>\n      <td>29273400</td>\n      <td>-5.28</td>\n      <td>-2.091420</td>\n    </tr>\n    <tr>\n      <th>2021-05-07</th>\n      <td>252.15</td>\n      <td>254.30</td>\n      <td>251.17</td>\n      <td>252.46</td>\n      <td>252.46</td>\n      <td>27010100</td>\n      <td>2.73</td>\n      <td>1.093181</td>\n    </tr>\n    <tr>\n      <th>2021-05-06</th>\n      <td>246.45</td>\n      <td>249.86</td>\n      <td>244.69</td>\n      <td>249.73</td>\n      <td>249.73</td>\n      <td>26491100</td>\n      <td>3.26</td>\n      <td>1.322676</td>\n    </tr>\n    <tr>\n      <th>2021-05-05</th>\n      <td>249.06</td>\n      <td>249.50</td>\n      <td>245.82</td>\n      <td>246.47</td>\n      <td>246.47</td>\n      <td>21901300</td>\n      <td>-1.32</td>\n      <td>-0.532709</td>\n    </tr>\n    <tr>\n      <th>2021-05-04</th>\n      <td>250.97</td>\n      <td>251.21</td>\n      <td>245.76</td>\n      <td>247.79</td>\n      <td>247.79</td>\n      <td>32756100</td>\n      <td>-4.07</td>\n      <td>-1.615977</td>\n    </tr>\n    <tr>\n      <th>2021-05-03</th>\n      <td>253.40</td>\n      <td>254.35</td>\n      <td>254.35</td>\n      <td>251.86</td>\n      <td>251.86</td>\n      <td>19626600</td>\n      <td>NaN</td>\n      <td>NaN</td>\n    </tr>\n  </tbody>\n</table>\n</div>"
    },
    "metadata": {},
    "execution_count": 13,
    "output_type": "execute_result"
}
],
            "execution_count": 13
        },
        {
            "cell_type": "markdown",
            "source": [
                "The End"
            ],
            "metadata": {
                "azdata_cell_guid": "392fbc3f-d651-436b-a943-c71b54d1fc5b",
                "extensions": {
                    "azuredatastudio": {
                        "views": []
                    }
                }
            }
        }
    ]
}