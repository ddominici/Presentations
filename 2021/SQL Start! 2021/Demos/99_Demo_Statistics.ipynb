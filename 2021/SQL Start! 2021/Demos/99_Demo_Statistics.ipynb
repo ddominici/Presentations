{
    "metadata": {
        "kernelspec": {
            "name": "python3",
            "display_name": "Python 3",
            "language": "python"
        },
        "language_info": {
            "name": "python",
            "version": "3.9.7",
            "mimetype": "text/x-python",
            "codemirror_mode": {
                "name": "ipython",
                "version": 3
            },
            "pygments_lexer": "ipython3",
            "nbconvert_exporter": "python",
            "file_extension": ".py"
        }
    },
    "nbformat_minor": 2,
    "nbformat": 4,
    "cells": [
        {
            "cell_type": "code",
            "source": [
                "import pandas as pd\r\n",
                "import plotly.express as px\r\n",
                "import pyodbc\r\n",
                "\r\n",
                "sql_conn = pyodbc.connect('DRIVER={ODBC Driver 17 for SQL Server};SERVER=192.168.184.239;DATABASE=AdventureWorks2017;UID=sa;PWD=Longh0rn!') \r\n",
                "\n",
                "query2 = \"\"\"EXEC ('DBCC SHOW_STATISTICS (''Production.Product'', _WA_Sys_00000006_1CBC4616)  WITH HISTOGRAM');\"\"\"\r\n",
                "df = pd.read_sql(query2, sql_conn)\r\n",
                "\r\n",
                "fig = px.bar(df, x='RANGE_HI_KEY', y='EQ_ROWS', title='Index statistics')\r\n",
                "fig.show()\r\n",
                "\r\n",
                "df"
            ],
            "metadata": {
                "azdata_cell_guid": "607e0f4e-d41c-471d-87a5-8c6807b5e6a0",
                "tags": [],
                "language": "python"
            },
            "outputs": [
                {
                    "traceback": [
                        "\u001b[0;31m---------------------------------------------------------------------------\u001b[0m",
                        "\u001b[0;31mModuleNotFoundError\u001b[0m                       Traceback (most recent call last)",
                        "\u001b[0;32m<ipython-input-1-92f53c986620>\u001b[0m in \u001b[0;36m<module>\u001b[0;34m\u001b[0m\n\u001b[1;32m      1\u001b[0m \u001b[0;32mimport\u001b[0m \u001b[0mpandas\u001b[0m \u001b[0;32mas\u001b[0m \u001b[0mpd\u001b[0m\u001b[0;34m\u001b[0m\u001b[0;34m\u001b[0m\u001b[0m\n\u001b[1;32m      2\u001b[0m \u001b[0;32mimport\u001b[0m \u001b[0mplotly\u001b[0m\u001b[0;34m.\u001b[0m\u001b[0mexpress\u001b[0m \u001b[0;32mas\u001b[0m \u001b[0mpx\u001b[0m\u001b[0;34m\u001b[0m\u001b[0;34m\u001b[0m\u001b[0m\n\u001b[0;32m----> 3\u001b[0;31m \u001b[0;32mimport\u001b[0m \u001b[0mpyodbc\u001b[0m\u001b[0;34m\u001b[0m\u001b[0;34m\u001b[0m\u001b[0m\n\u001b[0m\u001b[1;32m      4\u001b[0m \u001b[0;34m\u001b[0m\u001b[0m\n\u001b[1;32m      5\u001b[0m \u001b[0msql_conn\u001b[0m \u001b[0;34m=\u001b[0m \u001b[0mpyodbc\u001b[0m\u001b[0;34m.\u001b[0m\u001b[0mconnect\u001b[0m\u001b[0;34m(\u001b[0m\u001b[0;34m'DRIVER={ODBC Driver 17 for SQL Server};SERVER=192.168.184.239;DATABASE=AdventureWorks2017;UID=sa;PWD=Longh0rn!'\u001b[0m\u001b[0;34m)\u001b[0m\u001b[0;34m\u001b[0m\u001b[0;34m\u001b[0m\u001b[0m\n",
                        "\u001b[0;31mModuleNotFoundError\u001b[0m: No module named 'pyodbc'"
                    ],
                    "ename": "ModuleNotFoundError",
                    "evalue": "No module named 'pyodbc'",
                    "output_type": "error"
                }
            ],
            "execution_count": 1
        }
    ]
}