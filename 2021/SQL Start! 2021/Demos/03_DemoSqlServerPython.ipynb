{
    "metadata": {
        "kernelspec": {
            "name": "python3",
            "display_name": "Python 3",
            "language": "python"
        },
        "language_info": {
            "name": "python",
            "version": "3.8.6",
            "mimetype": "text/x-python",
            "codemirror_mode": {
                "name": "ipython",
                "version": 3
            },
            "pygments_lexer": "ipython3",
            "nbconvert_exporter": "python",
            "file_extension": ".py"
        },
        "extensions": {
            "azuredatastudio": {
                "version": 1,
                "views": []
            }
        }
    },
    "nbformat_minor": 2,
    "nbformat": 4,
    "cells": [
        {
            "cell_type": "markdown",
            "source": [
                "# Come NON diventare ricchi con Python\n",
                "\n",
                "Questa sessione è pensata per dare qualche spunto pratico a chi ha la necessità di manipolare i dati usando Python e SQL Server.\n",
                "\n",
                "Il notebook che state guardando è solo la prima parte, giusto per prendere confidenza con Python e con le librerie usate per la manipolazione dei dati (pandas e numpy) e quelle per il plotting dei dati (matplotlib e plotly).\n",
                "\n",
                "Ci sono tonnellate di librerie per Python, alcune anche legate al mondo finanziario e questa sessione non ha assolutamente la pretesa di elencarle o dimostrarle tutte... A voi il divertimento ! :-)\n",
                "\n",
                "  \n",
                "\n",
                "Mi raccomando!!! Le demo che vedrete servono solamente a darvi qualche idea, **NON** usatele per giocare in borsa con soldi veri!!!"
            ],
            "metadata": {
                "azdata_cell_guid": "debf7d0a-35d7-41a4-84be-87b4108802f4",
                "extensions": {
                    "azuredatastudio": {
                        "views": []
                    }
                }
            }
        },
        {
            "cell_type": "code",
            "source": [
                "import time\r\n",
                "import datetime\r\n",
                "import pandas as pd\r\n",
                "import pandas_datareader as web\r\n",
                "import numpy as np"
            ],
            "metadata": {
                "azdata_cell_guid": "c20c8615-8e4f-4f58-b7e1-5da516838445",
                "tags": [],
                "extensions": {
                    "azuredatastudio": {
                        "views": []
                    }
                }
            },
            "outputs": [],
            "execution_count": 4
        },
        {
            "cell_type": "markdown",
            "source": [
                "## Scaricare i dati finanziari da Yahoo Finance\n",
                "\n",
                "Uno dei (pochi) siti da cui è possibile scaricare gratuitamente i valori degli scambi di borsa di titoli o ETF è Yahoo Finance.\n",
                "\n",
                "Esempio: [https://finance.yahoo.com/quote/MSFT/history?p=MSFT](https://finance.yahoo.com/quote/MSFT/history?p=MSFT)\n",
                "\n",
                "  \n",
                "\n",
                "La libreria **pandas\\_datareader** ha una funzione per scaricare i dati storici dal sito Yahoo Finance indicando il simbolo dell'azione/ETF ed i range di data di cui scaricare i dati."
            ],
            "metadata": {
                "azdata_cell_guid": "abb31f75-fafb-4338-ad09-d5f39e425a39",
                "extensions": {
                    "azuredatastudio": {
                        "views": []
                    }
                }
            }
        },
        {
            "cell_type": "code",
            "source": [
                "#\r\n",
                "# Demo - Scaricare i dati storici da Yahoo Finance\r\n",
                "#\r\n",
                "symbol     = 'MSFT'\r\n",
                "\r\n",
                "# Old method - Yahoo changed its web service and now is not working anymore...\r\n",
                "# start_date = datetime.datetime(2020, 1, 1) \r\n",
                "# end_date   = datetime.date.today()\r\n",
                "# data = web.DataReader(symbol, 'yahoo', start_date, end_date)\r\n",
                "\r\n",
                "epoch_start = 1577847600\r\n",
                "epoch_end = int(time.time())\r\n",
                "url = f'https://query1.finance.yahoo.com/v7/finance/download/{symbol}?period1={epoch_start}&period2={epoch_end}&interval=1d&events=history&includeAdjustedClose=true'\r\n",
                "        \r\n",
                "data = pd.read_csv(url)\r\n",
                "\r\n",
                "#data.head(5) \r\n",
                "data.tail(5)\r\n",
                "\r\n",
                "#print(data)"
            ],
            "metadata": {
                "azdata_cell_guid": "5b65cca3-1f6e-4876-b9af-e91e3cbf9963",
                "extensions": {
                    "azuredatastudio": {
                        "views": []
                    }
                }
            },
            "outputs": [
                {
                    "name": "stdout",
                    "text": "           Date        Open        High         Low       Close   Adj Close  \\\n0    2020-01-02  158.779999  160.729996  158.330002  160.619995  157.903473   \n1    2020-01-03  158.320007  159.949997  158.059998  158.619995  155.937286   \n2    2020-01-06  157.080002  159.100006  156.509995  159.029999  156.340363   \n3    2020-01-07  159.320007  159.669998  157.320007  157.580002  154.914902   \n4    2020-01-08  158.929993  160.800003  157.949997  160.089996  157.382416   \n..          ...         ...         ...         ...         ...         ...   \n449  2021-10-13  294.910004  297.279999  293.489990  296.309998  296.309998   \n450  2021-10-14  299.209991  303.269989  297.829987  302.750000  302.750000   \n451  2021-10-15  302.339996  304.450012  300.519989  304.209991  304.209991   \n452  2021-10-18  303.570007  308.209991  302.690002  307.290009  307.290009   \n453  2021-10-19  308.350006  309.299988  307.220001  308.230011  308.230011   \n\n       Volume  \n0    22622100  \n1    21116200  \n2    20813700  \n3    21634100  \n4    27746500  \n..        ...  \n449  23416300  \n450  27262900  \n451  25374700  \n452  22729300  \n453  17654900  \n\n[454 rows x 7 columns]\n",
                    "output_type": "stream"
                }
            ],
            "execution_count": 9
        },
        {
            "cell_type": "markdown",
            "source": [
                "## Che cosa fare con i dati scaricati ?\n",
                "\n",
                "Una volta scaricati i dati storici di un azione o ETF si possono calcolare alcuni indicatori che sono alla base delle più comuni strategie di trading.\n",
                "\n",
                "Quelli che utilizzeremo in questi esempi sono:\n",
                "\n",
                "\\- Media mobile esponenziale (Exponential Mobile Average, EMA)\n",
                "\n",
                "\\- Media mobile semplice (Simple Moving Average, SMA)\n",
                "\n",
                "\\- Convergenza e divergenza di medie mobili (Moving average convergence divergence, MACD) [Wikipedia](https://it.wikipedia.org/wiki/MACD)\n",
                "\n",
                "\\- Bande di Bollinger"
            ],
            "metadata": {
                "azdata_cell_guid": "ca8bc162-2e05-4030-b285-c5b9a820a76f",
                "extensions": {
                    "azuredatastudio": {
                        "views": []
                    }
                }
            }
        },
        {
            "cell_type": "code",
            "source": [
                "#\r\n",
                "# Demo - Calcolo gli indicatori statistici\r\n",
                "#\r\n",
                "\r\n",
                "data.reset_index(inplace=True,drop=False)\r\n",
                "\r\n",
                "# Medie mobili a 12 e 26 giorni\r\n",
                "data['12d_EMA'] = data.Close.ewm(span=12, adjust=False).mean()\r\n",
                "data['26d_EMA'] = data.Close.ewm(span=26, adjust=False).mean()\r\n",
                "\r\n",
                "# Bollinger bands\r\n",
                "data['20d_SMA'] = data['Close'].rolling(window=20).mean()\r\n",
                "data['20d_STD'] = data['Close'].rolling(window=20).std()\r\n",
                "data['Bollinger_H'] = data['20d_SMA'] + (data['20d_STD'] * 2)\r\n",
                "data['Bollinger_L'] = data['20d_SMA'] - (data['20d_STD'] * 2)\r\n",
                "\r\n",
                "# MACD\r\n",
                "data['macd'] = data['12d_EMA'] - data['26d_EMA'] \r\n",
                "data['macdsignal'] = data.macd.ewm(span=9, adjust=False).mean()\r\n",
                "data['trading_signal'] = np.where(data['macd'] >= data['macdsignal'], 1, -1)\r\n",
                "\r\n",
                "data.tail(5)"
            ],
            "metadata": {
                "azdata_cell_guid": "f305185b-353c-412f-a4cc-ebf84c2d995d",
                "extensions": {
                    "azuredatastudio": {
                        "views": []
                    }
                }
            },
            "outputs": [
                {
                    "data": {
                        "text/plain": "     index        Date        Open        High         Low       Close  \\\n449    449  2021-10-13  294.910004  297.279999  293.489990  296.309998   \n450    450  2021-10-14  299.209991  303.269989  297.829987  302.750000   \n451    451  2021-10-15  302.339996  304.450012  300.519989  304.209991   \n452    452  2021-10-18  303.570007  308.209991  302.690002  307.290009   \n453    453  2021-10-19  308.350006  309.299988  307.220001  308.230011   \n\n      Adj Close    Volume     12d_EMA     26d_EMA     20d_SMA   20d_STD  \\\n449  296.309998  23416300  292.917924  293.492576  293.124500  6.328647   \n450  302.750000  27262900  294.430551  294.178311  293.000999  6.100163   \n451  304.209991  25374700  295.935080  294.921399  293.217999  6.425870   \n452  307.290009  22729300  297.681992  295.837592  293.867500  7.155999   \n453  308.230011  17654900  299.304764  296.755549  294.539001  7.845052   \n\n     Bollinger_H  Bollinger_L      macd  macdsignal  trading_signal  \n449   305.781793   280.467206 -0.574652   -1.172775               1  \n450   305.201325   280.800674  0.252240   -0.887772               1  \n451   306.069739   280.366259  1.013682   -0.507481               1  \n452   308.179498   279.555503  1.844400   -0.037105               1  \n453   310.229105   278.848898  2.549215    0.480159               1  ",
                        "text/html": "<div>\n<style scoped>\n    .dataframe tbody tr th:only-of-type {\n        vertical-align: middle;\n    }\n\n    .dataframe tbody tr th {\n        vertical-align: top;\n    }\n\n    .dataframe thead th {\n        text-align: right;\n    }\n</style>\n<table border=\"1\" class=\"dataframe\">\n  <thead>\n    <tr style=\"text-align: right;\">\n      <th></th>\n      <th>index</th>\n      <th>Date</th>\n      <th>Open</th>\n      <th>High</th>\n      <th>Low</th>\n      <th>Close</th>\n      <th>Adj Close</th>\n      <th>Volume</th>\n      <th>12d_EMA</th>\n      <th>26d_EMA</th>\n      <th>20d_SMA</th>\n      <th>20d_STD</th>\n      <th>Bollinger_H</th>\n      <th>Bollinger_L</th>\n      <th>macd</th>\n      <th>macdsignal</th>\n      <th>trading_signal</th>\n    </tr>\n  </thead>\n  <tbody>\n    <tr>\n      <th>449</th>\n      <td>449</td>\n      <td>2021-10-13</td>\n      <td>294.910004</td>\n      <td>297.279999</td>\n      <td>293.489990</td>\n      <td>296.309998</td>\n      <td>296.309998</td>\n      <td>23416300</td>\n      <td>292.917924</td>\n      <td>293.492576</td>\n      <td>293.124500</td>\n      <td>6.328647</td>\n      <td>305.781793</td>\n      <td>280.467206</td>\n      <td>-0.574652</td>\n      <td>-1.172775</td>\n      <td>1</td>\n    </tr>\n    <tr>\n      <th>450</th>\n      <td>450</td>\n      <td>2021-10-14</td>\n      <td>299.209991</td>\n      <td>303.269989</td>\n      <td>297.829987</td>\n      <td>302.750000</td>\n      <td>302.750000</td>\n      <td>27262900</td>\n      <td>294.430551</td>\n      <td>294.178311</td>\n      <td>293.000999</td>\n      <td>6.100163</td>\n      <td>305.201325</td>\n      <td>280.800674</td>\n      <td>0.252240</td>\n      <td>-0.887772</td>\n      <td>1</td>\n    </tr>\n    <tr>\n      <th>451</th>\n      <td>451</td>\n      <td>2021-10-15</td>\n      <td>302.339996</td>\n      <td>304.450012</td>\n      <td>300.519989</td>\n      <td>304.209991</td>\n      <td>304.209991</td>\n      <td>25374700</td>\n      <td>295.935080</td>\n      <td>294.921399</td>\n      <td>293.217999</td>\n      <td>6.425870</td>\n      <td>306.069739</td>\n      <td>280.366259</td>\n      <td>1.013682</td>\n      <td>-0.507481</td>\n      <td>1</td>\n    </tr>\n    <tr>\n      <th>452</th>\n      <td>452</td>\n      <td>2021-10-18</td>\n      <td>303.570007</td>\n      <td>308.209991</td>\n      <td>302.690002</td>\n      <td>307.290009</td>\n      <td>307.290009</td>\n      <td>22729300</td>\n      <td>297.681992</td>\n      <td>295.837592</td>\n      <td>293.867500</td>\n      <td>7.155999</td>\n      <td>308.179498</td>\n      <td>279.555503</td>\n      <td>1.844400</td>\n      <td>-0.037105</td>\n      <td>1</td>\n    </tr>\n    <tr>\n      <th>453</th>\n      <td>453</td>\n      <td>2021-10-19</td>\n      <td>308.350006</td>\n      <td>309.299988</td>\n      <td>307.220001</td>\n      <td>308.230011</td>\n      <td>308.230011</td>\n      <td>17654900</td>\n      <td>299.304764</td>\n      <td>296.755549</td>\n      <td>294.539001</td>\n      <td>7.845052</td>\n      <td>310.229105</td>\n      <td>278.848898</td>\n      <td>2.549215</td>\n      <td>0.480159</td>\n      <td>1</td>\n    </tr>\n  </tbody>\n</table>\n</div>"
                    },
                    "metadata": {},
                    "execution_count": 10,
                    "output_type": "execute_result"
                }
            ],
            "execution_count": 10
        },
        {
            "cell_type": "markdown",
            "source": [
                "## Plotting dei dati\n",
                "\n",
                "Non è proprio facilissimo leggere la tabella appena vista, giusto?  \n",
                "Allora per semplificarci la vita ed avere un \"colpo d'occhio\" più efficace nel capire se è il momento di acquistare o di vendere un bel grafico è quello che ci vuole!\n",
                "\n",
                "La libreria **matplotlib** ci fornisce la possibilità di creare grafici in modo molto semplice e veloce..."
            ],
            "metadata": {
                "azdata_cell_guid": "f756e1a4-71e6-4434-a902-25a04a76006d",
                "extensions": {
                    "azuredatastudio": {
                        "views": []
                    }
                }
            }
        },
        {
            "cell_type": "code",
            "source": [
                "#\r\n",
                "# Demo - Plot degli indicatori usando la libreria matplotlib\r\n",
                "#\r\n",
                "import matplotlib.pyplot as plt\r\n",
                "\r\n",
                "data_to_plot = data #data.iloc[-30:]\r\n",
                "\r\n",
                "plt.style.use('seaborn-muted')\r\n",
                "\r\n",
                "fig, ax = plt.subplots(1, 2, figsize=(28, 10))\r\n",
                "\r\n",
                "ax[0].set(title = 'Indicators - ' + symbol, ylabel = 'Price in Euros', xlabel = 'Date')\r\n",
                "#data_to_plot[['Date','Close','12d_EMA','26d_EMA','Bollinger_H','Bollinger_L']].plot(ax=ax[0], x='Date')\r\n",
                "data_to_plot[['Date','Close','Bollinger_H','Bollinger_L']].plot(ax=ax[0], x='Date')\r\n",
                "\r\n",
                "ax[1].set_title('MACD - ' + symbol)\r\n",
                "data_to_plot[['Date','macd','macdsignal']].plot(ax=ax[1], x='Date')\r\n",
                "\r\n",
                "plt.legend()\r\n",
                "\r\n",
                "#filename = basePath + ticker + '_1.png'\r\n",
                "#plt.savefig(filename)\r\n",
                "\r\n",
                "plt.show()"
            ],
            "metadata": {
                "azdata_cell_guid": "10224aa4-5953-4980-9041-1c9e66b2b984",
                "extensions": {
                    "azuredatastudio": {
                        "views": []
                    }
                }
            },
            "outputs": [
                {
                    "name": "stderr",
                    "text": "/Users/ddominici/Library/Python/3.8/lib/python/site-packages/pandas/plotting/_matplotlib/tools.py:400: MatplotlibDeprecationWarning: \nThe is_first_col function was deprecated in Matplotlib 3.4 and will be removed two minor releases later. Use ax.get_subplotspec().is_first_col() instead.\n  if ax.is_first_col():\n/Users/ddominici/Library/Python/3.8/lib/python/site-packages/pandas/plotting/_matplotlib/tools.py:400: MatplotlibDeprecationWarning: \nThe is_first_col function was deprecated in Matplotlib 3.4 and will be removed two minor releases later. Use ax.get_subplotspec().is_first_col() instead.\n  if ax.is_first_col():\n",
                    "output_type": "stream"
                },
                {
                    "data": {
                        "text/plain": "<Figure size 2016x720 with 2 Axes>",
                        "image/png": "[encoded data removed]"
                    },
                    "metadata": {
                        "needs_background": "light"
                    },
                    "output_type": "display_data"
                }
            ],
            "execution_count": 12
        },
        {
            "cell_type": "markdown",
            "source": [
                "Oppure posso utilizzare la libreria **Plotly**, più interattiva e con alcune tipologie di grafici già pronte all'uso per i dati finanziari (es. i grafici candlestick)"
            ],
            "metadata": {
                "azdata_cell_guid": "b483fa7c-ad09-4a4f-8ccb-6e7672a81f0b",
                "extensions": {
                    "azuredatastudio": {
                        "views": []
                    }
                }
            }
        },
        {
            "cell_type": "code",
            "source": [
                "#\r\n",
                "# Demo - Plot degli indcatori usando la libreria Plotly\r\n",
                "#\r\n",
                "from plotly.subplots import make_subplots\r\n",
                "import plotly.graph_objects as go\r\n",
                "\r\n",
                "# Creo il grafico per gli ultimi 90 giorni\r\n",
                "data_to_plot = data.iloc[-90:]\r\n",
                "\r\n",
                "# Imposto la data come indice del dataframe\r\n",
                "data_to_plot.set_index('Date', inplace=True)\r\n",
                "\r\n",
                "# Creo tre grafici, in verticale, di altezza variabile\r\n",
                "fig = make_subplots(rows=3,\r\n",
                "                    cols=1,\r\n",
                "                    shared_xaxes=True,\r\n",
                "                    vertical_spacing=0.02,\r\n",
                "                    row_width=[0.1, 0.1, 0.8]\r\n",
                "                    )\r\n",
                "\r\n",
                "# Primo grafico: candlestick con i dati di minimo, massimo, apertura e chiusura degli scambi\r\n",
                "fig.add_trace(\r\n",
                "    go.Candlestick(\r\n",
                "        x=data_to_plot.index,\r\n",
                "        low=data_to_plot['Low'],\r\n",
                "        high=data_to_plot['High'],\r\n",
                "        close=data_to_plot['Close'],\r\n",
                "        open=data_to_plot['Open'],\r\n",
                "        increasing_line_color='green',\r\n",
                "        decreasing_line_color='red'\r\n",
                "    ),\r\n",
                "    row=1,\r\n",
                "    col=1\r\n",
                ")\r\n",
                "\r\n",
                "# Secondo grafico: volume degli scambi del titolo\r\n",
                "fig.add_trace(go.Bar(x=data_to_plot.index, y=data_to_plot['Volume']), row=2, col=1)\r\n",
                "\r\n",
                "# Terzo grafico: segnale di trading calcolato sull'indicatore MACD visto in precedenza\r\n",
                "fig.add_trace(go.Bar(x=data_to_plot.index, y=data_to_plot['trading_signal']), row=3, col=1)\r\n",
                "\r\n",
                "# Impostazioni grafico\r\n",
                "fig.layout.xaxis1.type = 'category'\r\n",
                "fig.layout.xaxis2.type = 'category'\r\n",
                "fig.layout.xaxis3.type = 'category'\r\n",
                "\r\n",
                "today = datetime.datetime.today().strftime(\"%d-%m-%Y\")\r\n",
                "title = \"Interactive CandleStick & Volume Chart {symbol} - {date}\".format(symbol=symbol, date=today)\r\n",
                "\r\n",
                "fig.update_layout(title=title,\r\n",
                "                #yaxis1_title='Close (€)',\r\n",
                "                #yaxis2_title='Volume (M)',\r\n",
                "                #xaxis2_title='Time',\r\n",
                "                #xaxis1_rangeslider_visible=False,\r\n",
                "                #xaxis2_rangeslider_visible=False\r\n",
                "                )\r\n",
                "\r\n",
                "# Visualizzo il grafico\r\n",
                "fig.show()\r\n",
                "\r\n",
                "# Se voglio, posso salvare il grafico (statico) in formato png/jpeg/tiff\r\n",
                "#filename = \"./images/%s.png\" % symbol\r\n",
                "#fig.write_image(filename, width=1024, height=800, scale=2)\r\n",
                ""
            ],
            "metadata": {
                "azdata_cell_guid": "855fcefb-2922-4e62-9ea6-293e8b0fb5b7",
                "extensions": {
                    "azuredatastudio": {
                        "views": []
                    }
                }
            },
            "outputs": [
                {
                    "data": {
                        "application/vnd.plotly.v1+json": {
                            "config": {
                                "plotlyServerURL": "https://plot.ly"
                            },
                            "data": [
                                {
                                    "close": [
                                        259.890015,
                                        258.359985,
                                        257.380005,
                                        260.899994,
                                        259.429993,
                                        262.630005,
                                        265.51001,
                                        265.269989,
                                        266.690002,
                                        265.019989,
                                        268.720001,
                                        271.399994,
                                        270.899994,
                                        271.600006,
                                        277.649994,
                                        277.660004,
                                        279.929993,
                                        277.420013,
                                        277.940002,
                                        277.320007,
                                        280.980011,
                                        282.51001,
                                        281.029999,
                                        280.75,
                                        277.01001,
                                        279.320007,
                                        281.399994,
                                        286.140015,
                                        289.670013,
                                        289.049988,
                                        286.540009,
                                        286.220001,
                                        286.5,
                                        284.910004,
                                        284.820007,
                                        287.119995,
                                        286.51001,
                                        289.519989,
                                        289.459991,
                                        288.329987,
                                        286.440002,
                                        286.950012,
                                        289.809998,
                                        292.850006,
                                        294.600006,
                                        293.079987,
                                        290.730011,
                                        296.769989,
                                        304.359985,
                                        304.649994,
                                        302.619995,
                                        302.01001,
                                        299.089996,
                                        299.720001,
                                        303.589996,
                                        301.880005,
                                        301.829987,
                                        301.149994,
                                        301.140015,
                                        300.179993,
                                        300.209991,
                                        297.25,
                                        295.709991,
                                        296.98999,
                                        299.790009,
                                        304.820007,
                                        305.220001,
                                        299.869995,
                                        294.299988,
                                        294.799988,
                                        298.579987,
                                        299.559998,
                                        299.350006,
                                        294.170013,
                                        283.519989,
                                        284,
                                        281.920013,
                                        289.100006,
                                        283.109985,
                                        288.76001,
                                        293.109985,
                                        294.850006,
                                        294.850006,
                                        294.230011,
                                        292.880005,
                                        296.309998,
                                        302.75,
                                        304.209991,
                                        307.290009,
                                        308.230011
                                    ],
                                    "decreasing": {
                                        "line": {
                                            "color": "red"
                                        }
                                    },
                                    "high": [
                                        259.950012,
                                        259.98999,
                                        260.579987,
                                        261.75,
                                        262.299988,
                                        263.519989,
                                        265.790009,
                                        266.829987,
                                        267.850006,
                                        267.25,
                                        268.899994,
                                        271.649994,
                                        271.359985,
                                        271.839996,
                                        278,
                                        279.369995,
                                        280.690002,
                                        278.730011,
                                        278.049988,
                                        279.769989,
                                        282.850006,
                                        283.660004,
                                        282.51001,
                                        284.100006,
                                        280.369995,
                                        280.970001,
                                        281.519989,
                                        286.420013,
                                        289.98999,
                                        289.690002,
                                        289.579987,
                                        290.149994,
                                        288.619995,
                                        286.660004,
                                        286.769989,
                                        287.230011,
                                        287.589996,
                                        289.630005,
                                        289.5,
                                        291.549988,
                                        289.25,
                                        288.660004,
                                        289.970001,
                                        292.899994,
                                        294.820007,
                                        293.429993,
                                        294.820007,
                                        297.470001,
                                        305.839996,
                                        305.399994,
                                        305.649994,
                                        304.589996,
                                        302.429993,
                                        300.869995,
                                        304.220001,
                                        304.5,
                                        305.190002,
                                        303.359985,
                                        302.600006,
                                        301.089996,
                                        300.609985,
                                        302.140015,
                                        299.920013,
                                        298.540009,
                                        301.390015,
                                        305.320007,
                                        305.309998,
                                        304.5,
                                        298.720001,
                                        297.540009,
                                        300.220001,
                                        300.899994,
                                        299.799988,
                                        296.470001,
                                        290.779999,
                                        286.769989,
                                        287.829987,
                                        289.980011,
                                        287.75,
                                        290.399994,
                                        293.630005,
                                        296.640015,
                                        296.640015,
                                        297.970001,
                                        295.440002,
                                        297.279999,
                                        303.269989,
                                        304.450012,
                                        308.209991,
                                        309.299988
                                    ],
                                    "increasing": {
                                        "line": {
                                            "color": "green"
                                        }
                                    },
                                    "low": [
                                        256.799988,
                                        257.679993,
                                        254.419998,
                                        256.01001,
                                        258.75,
                                        257.920013,
                                        262.399994,
                                        264.429993,
                                        265.470001,
                                        264.76001,
                                        265.910004,
                                        267.980011,
                                        269.600006,
                                        269.600006,
                                        272.5,
                                        274.299988,
                                        277.149994,
                                        274.869995,
                                        275.320007,
                                        276.579987,
                                        277.390015,
                                        280.549988,
                                        279.829987,
                                        279.459991,
                                        274.450012,
                                        276.26001,
                                        277.290009,
                                        283.420013,
                                        286.5,
                                        286.640015,
                                        282.950012,
                                        283.829987,
                                        286.079987,
                                        283.910004,
                                        283.73999,
                                        284,
                                        284.649994,
                                        286.100006,
                                        287.619995,
                                        287.809998,
                                        285.200012,
                                        285.859985,
                                        286.339996,
                                        289.299988,
                                        290.019989,
                                        291.079987,
                                        290.269989,
                                        288.640015,
                                        298.059998,
                                        301.850006,
                                        302,
                                        300.420013,
                                        298.950012,
                                        296.829987,
                                        301.059998,
                                        301.5,
                                        301.48999,
                                        300.179993,
                                        300.26001,
                                        298.200012,
                                        297.470001,
                                        297,
                                        295.380005,
                                        294.079987,
                                        298.100006,
                                        301.820007,
                                        300.76001,
                                        299.529999,
                                        289.519989,
                                        294.070007,
                                        294.51001,
                                        297.529999,
                                        296.929993,
                                        292.940002,
                                        282.75,
                                        283.01001,
                                        281.619995,
                                        281.290009,
                                        280.25,
                                        284.049988,
                                        285.51001,
                                        293.920013,
                                        293.76001,
                                        292.75,
                                        292.350006,
                                        293.48999,
                                        297.829987,
                                        300.519989,
                                        302.690002,
                                        307.220001
                                    ],
                                    "open": [
                                        257.899994,
                                        259.769989,
                                        259.399994,
                                        256.070007,
                                        259.630005,
                                        259.820007,
                                        262.720001,
                                        265.98999,
                                        266.160004,
                                        266.230011,
                                        266.190002,
                                        268.869995,
                                        270.690002,
                                        269.609985,
                                        272.820007,
                                        278.029999,
                                        279.399994,
                                        276.899994,
                                        275.720001,
                                        279.160004,
                                        277.519989,
                                        282.350006,
                                        282,
                                        282.070007,
                                        278.929993,
                                        278.029999,
                                        278.899994,
                                        283.839996,
                                        287.369995,
                                        289,
                                        289.429993,
                                        288.98999,
                                        286.23999,
                                        285.170013,
                                        286.359985,
                                        285.420013,
                                        286.220001,
                                        286.880005,
                                        288.51001,
                                        289.75,
                                        288.799988,
                                        287.209991,
                                        286.630005,
                                        289.480011,
                                        293.190002,
                                        292.390015,
                                        292.040009,
                                        288.690002,
                                        299.720001,
                                        303.25,
                                        305.019989,
                                        304.299988,
                                        300.98999,
                                        298.98999,
                                        301.119995,
                                        304.420013,
                                        302.869995,
                                        302.200012,
                                        300.98999,
                                        301.01001,
                                        299.779999,
                                        300.820007,
                                        298.420013,
                                        297.549988,
                                        299.559998,
                                        303.26001,
                                        303.76001,
                                        304.170013,
                                        296.329987,
                                        295.690002,
                                        296.730011,
                                        298.850006,
                                        298.230011,
                                        296.140015,
                                        289.799988,
                                        285.100006,
                                        285.709991,
                                        282.119995,
                                        287.399994,
                                        284.049988,
                                        285.779999,
                                        295.179993,
                                        296.220001,
                                        292.920013,
                                        295.339996,
                                        294.910004,
                                        299.209991,
                                        302.339996,
                                        303.570007,
                                        308.350006
                                    ],
                                    "type": "candlestick",
                                    "x": [
                                        "2021-06-14",
                                        "2021-06-15",
                                        "2021-06-16",
                                        "2021-06-17",
                                        "2021-06-18",
                                        "2021-06-21",
                                        "2021-06-22",
                                        "2021-06-23",
                                        "2021-06-24",
                                        "2021-06-25",
                                        "2021-06-28",
                                        "2021-06-29",
                                        "2021-06-30",
                                        "2021-07-01",
                                        "2021-07-02",
                                        "2021-07-06",
                                        "2021-07-07",
                                        "2021-07-08",
                                        "2021-07-09",
                                        "2021-07-12",
                                        "2021-07-13",
                                        "2021-07-14",
                                        "2021-07-15",
                                        "2021-07-16",
                                        "2021-07-19",
                                        "2021-07-20",
                                        "2021-07-21",
                                        "2021-07-22",
                                        "2021-07-23",
                                        "2021-07-26",
                                        "2021-07-27",
                                        "2021-07-28",
                                        "2021-07-29",
                                        "2021-07-30",
                                        "2021-08-02",
                                        "2021-08-03",
                                        "2021-08-04",
                                        "2021-08-05",
                                        "2021-08-06",
                                        "2021-08-09",
                                        "2021-08-10",
                                        "2021-08-11",
                                        "2021-08-12",
                                        "2021-08-13",
                                        "2021-08-16",
                                        "2021-08-17",
                                        "2021-08-18",
                                        "2021-08-19",
                                        "2021-08-20",
                                        "2021-08-23",
                                        "2021-08-24",
                                        "2021-08-25",
                                        "2021-08-26",
                                        "2021-08-27",
                                        "2021-08-30",
                                        "2021-08-31",
                                        "2021-09-01",
                                        "2021-09-02",
                                        "2021-09-03",
                                        "2021-09-07",
                                        "2021-09-08",
                                        "2021-09-09",
                                        "2021-09-10",
                                        "2021-09-13",
                                        "2021-09-14",
                                        "2021-09-15",
                                        "2021-09-16",
                                        "2021-09-17",
                                        "2021-09-20",
                                        "2021-09-21",
                                        "2021-09-22",
                                        "2021-09-23",
                                        "2021-09-24",
                                        "2021-09-27",
                                        "2021-09-28",
                                        "2021-09-29",
                                        "2021-09-30",
                                        "2021-10-01",
                                        "2021-10-04",
                                        "2021-10-05",
                                        "2021-10-06",
                                        "2021-10-07",
                                        "2021-10-08",
                                        "2021-10-11",
                                        "2021-10-12",
                                        "2021-10-13",
                                        "2021-10-14",
                                        "2021-10-15",
                                        "2021-10-18",
                                        "2021-10-19"
                                    ],
                                    "xaxis": "x",
                                    "yaxis": "y"
                                },
                                {
                                    "type": "bar",
                                    "x": [
                                        "2021-06-14",
                                        "2021-06-15",
                                        "2021-06-16",
                                        "2021-06-17",
                                        "2021-06-18",
                                        "2021-06-21",
                                        "2021-06-22",
                                        "2021-06-23",
                                        "2021-06-24",
                                        "2021-06-25",
                                        "2021-06-28",
                                        "2021-06-29",
                                        "2021-06-30",
                                        "2021-07-01",
                                        "2021-07-02",
                                        "2021-07-06",
                                        "2021-07-07",
                                        "2021-07-08",
                                        "2021-07-09",
                                        "2021-07-12",
                                        "2021-07-13",
                                        "2021-07-14",
                                        "2021-07-15",
                                        "2021-07-16",
                                        "2021-07-19",
                                        "2021-07-20",
                                        "2021-07-21",
                                        "2021-07-22",
                                        "2021-07-23",
                                        "2021-07-26",
                                        "2021-07-27",
                                        "2021-07-28",
                                        "2021-07-29",
                                        "2021-07-30",
                                        "2021-08-02",
                                        "2021-08-03",
                                        "2021-08-04",
                                        "2021-08-05",
                                        "2021-08-06",
                                        "2021-08-09",
                                        "2021-08-10",
                                        "2021-08-11",
                                        "2021-08-12",
                                        "2021-08-13",
                                        "2021-08-16",
                                        "2021-08-17",
                                        "2021-08-18",
                                        "2021-08-19",
                                        "2021-08-20",
                                        "2021-08-23",
                                        "2021-08-24",
                                        "2021-08-25",
                                        "2021-08-26",
                                        "2021-08-27",
                                        "2021-08-30",
                                        "2021-08-31",
                                        "2021-09-01",
                                        "2021-09-02",
                                        "2021-09-03",
                                        "2021-09-07",
                                        "2021-09-08",
                                        "2021-09-09",
                                        "2021-09-10",
                                        "2021-09-13",
                                        "2021-09-14",
                                        "2021-09-15",
                                        "2021-09-16",
                                        "2021-09-17",
                                        "2021-09-20",
                                        "2021-09-21",
                                        "2021-09-22",
                                        "2021-09-23",
                                        "2021-09-24",
                                        "2021-09-27",
                                        "2021-09-28",
                                        "2021-09-29",
                                        "2021-09-30",
                                        "2021-10-01",
                                        "2021-10-04",
                                        "2021-10-05",
                                        "2021-10-06",
                                        "2021-10-07",
                                        "2021-10-08",
                                        "2021-10-11",
                                        "2021-10-12",
                                        "2021-10-13",
                                        "2021-10-14",
                                        "2021-10-15",
                                        "2021-10-18",
                                        "2021-10-19"
                                    ],
                                    "xaxis": "x2",
                                    "y": [
                                        19150500,
                                        18038900,
                                        27220000,
                                        27565500,
                                        37202200,
                                        26696100,
                                        24694100,
                                        19518700,
                                        21446900,
                                        25611100,
                                        19590000,
                                        19937800,
                                        21656500,
                                        16725300,
                                        26458000,
                                        31565600,
                                        23260000,
                                        24618600,
                                        23916700,
                                        18931700,
                                        26120100,
                                        23113700,
                                        22604200,
                                        26186800,
                                        32935600,
                                        26259700,
                                        24364300,
                                        23384100,
                                        22768100,
                                        23176100,
                                        33604100,
                                        33566900,
                                        18168300,
                                        20940900,
                                        16267400,
                                        17879000,
                                        16191300,
                                        13900200,
                                        16585200,
                                        16117600,
                                        18616600,
                                        13955900,
                                        14561300,
                                        18231400,
                                        22507600,
                                        20075300,
                                        21813000,
                                        29850500,
                                        40796100,
                                        22830200,
                                        18175800,
                                        20006100,
                                        17666100,
                                        22597000,
                                        16348100,
                                        26285300,
                                        18983800,
                                        16285600,
                                        14747900,
                                        17180400,
                                        15046800,
                                        19927000,
                                        19619400,
                                        23652900,
                                        21853400,
                                        28356300,
                                        19550800,
                                        41372500,
                                        38278700,
                                        22364100,
                                        26626300,
                                        18604600,
                                        14999000,
                                        23571700,
                                        43186200,
                                        26353700,
                                        32325800,
                                        30086300,
                                        31350700,
                                        24993000,
                                        28002600,
                                        20430500,
                                        17680300,
                                        19298600,
                                        17974100,
                                        23416300,
                                        27262900,
                                        25374700,
                                        22729300,
                                        17654900
                                    ],
                                    "yaxis": "y2"
                                },
                                {
                                    "type": "bar",
                                    "x": [
                                        "2021-06-14",
                                        "2021-06-15",
                                        "2021-06-16",
                                        "2021-06-17",
                                        "2021-06-18",
                                        "2021-06-21",
                                        "2021-06-22",
                                        "2021-06-23",
                                        "2021-06-24",
                                        "2021-06-25",
                                        "2021-06-28",
                                        "2021-06-29",
                                        "2021-06-30",
                                        "2021-07-01",
                                        "2021-07-02",
                                        "2021-07-06",
                                        "2021-07-07",
                                        "2021-07-08",
                                        "2021-07-09",
                                        "2021-07-12",
                                        "2021-07-13",
                                        "2021-07-14",
                                        "2021-07-15",
                                        "2021-07-16",
                                        "2021-07-19",
                                        "2021-07-20",
                                        "2021-07-21",
                                        "2021-07-22",
                                        "2021-07-23",
                                        "2021-07-26",
                                        "2021-07-27",
                                        "2021-07-28",
                                        "2021-07-29",
                                        "2021-07-30",
                                        "2021-08-02",
                                        "2021-08-03",
                                        "2021-08-04",
                                        "2021-08-05",
                                        "2021-08-06",
                                        "2021-08-09",
                                        "2021-08-10",
                                        "2021-08-11",
                                        "2021-08-12",
                                        "2021-08-13",
                                        "2021-08-16",
                                        "2021-08-17",
                                        "2021-08-18",
                                        "2021-08-19",
                                        "2021-08-20",
                                        "2021-08-23",
                                        "2021-08-24",
                                        "2021-08-25",
                                        "2021-08-26",
                                        "2021-08-27",
                                        "2021-08-30",
                                        "2021-08-31",
                                        "2021-09-01",
                                        "2021-09-02",
                                        "2021-09-03",
                                        "2021-09-07",
                                        "2021-09-08",
                                        "2021-09-09",
                                        "2021-09-10",
                                        "2021-09-13",
                                        "2021-09-14",
                                        "2021-09-15",
                                        "2021-09-16",
                                        "2021-09-17",
                                        "2021-09-20",
                                        "2021-09-21",
                                        "2021-09-22",
                                        "2021-09-23",
                                        "2021-09-24",
                                        "2021-09-27",
                                        "2021-09-28",
                                        "2021-09-29",
                                        "2021-09-30",
                                        "2021-10-01",
                                        "2021-10-04",
                                        "2021-10-05",
                                        "2021-10-06",
                                        "2021-10-07",
                                        "2021-10-08",
                                        "2021-10-11",
                                        "2021-10-12",
                                        "2021-10-13",
                                        "2021-10-14",
                                        "2021-10-15",
                                        "2021-10-18",
                                        "2021-10-19"
                                    ],
                                    "xaxis": "x3",
                                    "y": [
                                        1,
                                        1,
                                        1,
                                        1,
                                        1,
                                        1,
                                        1,
                                        1,
                                        1,
                                        1,
                                        1,
                                        1,
                                        1,
                                        1,
                                        1,
                                        1,
                                        1,
                                        1,
                                        1,
                                        1,
                                        1,
                                        1,
                                        1,
                                        1,
                                        -1,
                                        -1,
                                        -1,
                                        -1,
                                        1,
                                        1,
                                        1,
                                        -1,
                                        -1,
                                        -1,
                                        -1,
                                        -1,
                                        -1,
                                        -1,
                                        -1,
                                        -1,
                                        -1,
                                        -1,
                                        -1,
                                        -1,
                                        -1,
                                        -1,
                                        -1,
                                        -1,
                                        1,
                                        1,
                                        1,
                                        1,
                                        1,
                                        1,
                                        1,
                                        1,
                                        -1,
                                        -1,
                                        -1,
                                        -1,
                                        -1,
                                        -1,
                                        -1,
                                        -1,
                                        -1,
                                        -1,
                                        -1,
                                        -1,
                                        -1,
                                        -1,
                                        -1,
                                        -1,
                                        -1,
                                        -1,
                                        -1,
                                        -1,
                                        -1,
                                        -1,
                                        -1,
                                        -1,
                                        -1,
                                        -1,
                                        1,
                                        1,
                                        1,
                                        1,
                                        1,
                                        1,
                                        1,
                                        1
                                    ],
                                    "yaxis": "y3"
                                }
                            ],
                            "layout": {
                                "template": {
                                    "data": {
                                        "bar": [
                                            {
                                                "error_x": {
                                                    "color": "#2a3f5f"
                                                },
                                                "error_y": {
                                                    "color": "#2a3f5f"
                                                },
                                                "marker": {
                                                    "line": {
                                                        "color": "#E5ECF6",
                                                        "width": 0.5
                                                    }
                                                },
                                                "type": "bar"
                                            }
                                        ],
                                        "barpolar": [
                                            {
                                                "marker": {
                                                    "line": {
                                                        "color": "#E5ECF6",
                                                        "width": 0.5
                                                    }
                                                },
                                                "type": "barpolar"
                                            }
                                        ],
                                        "carpet": [
                                            {
                                                "aaxis": {
                                                    "endlinecolor": "#2a3f5f",
                                                    "gridcolor": "white",
                                                    "linecolor": "white",
                                                    "minorgridcolor": "white",
                                                    "startlinecolor": "#2a3f5f"
                                                },
                                                "baxis": {
                                                    "endlinecolor": "#2a3f5f",
                                                    "gridcolor": "white",
                                                    "linecolor": "white",
                                                    "minorgridcolor": "white",
                                                    "startlinecolor": "#2a3f5f"
                                                },
                                                "type": "carpet"
                                            }
                                        ],
                                        "choropleth": [
                                            {
                                                "colorbar": {
                                                    "outlinewidth": 0,
                                                    "ticks": ""
                                                },
                                                "type": "choropleth"
                                            }
                                        ],
                                        "contour": [
                                            {
                                                "colorbar": {
                                                    "outlinewidth": 0,
                                                    "ticks": ""
                                                },
                                                "colorscale": [
                                                    [
                                                        0,
                                                        "#0d0887"
                                                    ],
                                                    [
                                                        0.1111111111111111,
                                                        "#46039f"
                                                    ],
                                                    [
                                                        0.2222222222222222,
                                                        "#7201a8"
                                                    ],
                                                    [
                                                        0.3333333333333333,
                                                        "#9c179e"
                                                    ],
                                                    [
                                                        0.4444444444444444,
                                                        "#bd3786"
                                                    ],
                                                    [
                                                        0.5555555555555556,
                                                        "#d8576b"
                                                    ],
                                                    [
                                                        0.6666666666666666,
                                                        "#ed7953"
                                                    ],
                                                    [
                                                        0.7777777777777778,
                                                        "#fb9f3a"
                                                    ],
                                                    [
                                                        0.8888888888888888,
                                                        "#fdca26"
                                                    ],
                                                    [
                                                        1,
                                                        "#f0f921"
                                                    ]
                                                ],
                                                "type": "contour"
                                            }
                                        ],
                                        "contourcarpet": [
                                            {
                                                "colorbar": {
                                                    "outlinewidth": 0,
                                                    "ticks": ""
                                                },
                                                "type": "contourcarpet"
                                            }
                                        ],
                                        "heatmap": [
                                            {
                                                "colorbar": {
                                                    "outlinewidth": 0,
                                                    "ticks": ""
                                                },
                                                "colorscale": [
                                                    [
                                                        0,
                                                        "#0d0887"
                                                    ],
                                                    [
                                                        0.1111111111111111,
                                                        "#46039f"
                                                    ],
                                                    [
                                                        0.2222222222222222,
                                                        "#7201a8"
                                                    ],
                                                    [
                                                        0.3333333333333333,
                                                        "#9c179e"
                                                    ],
                                                    [
                                                        0.4444444444444444,
                                                        "#bd3786"
                                                    ],
                                                    [
                                                        0.5555555555555556,
                                                        "#d8576b"
                                                    ],
                                                    [
                                                        0.6666666666666666,
                                                        "#ed7953"
                                                    ],
                                                    [
                                                        0.7777777777777778,
                                                        "#fb9f3a"
                                                    ],
                                                    [
                                                        0.8888888888888888,
                                                        "#fdca26"
                                                    ],
                                                    [
                                                        1,
                                                        "#f0f921"
                                                    ]
                                                ],
                                                "type": "heatmap"
                                            }
                                        ],
                                        "heatmapgl": [
                                            {
                                                "colorbar": {
                                                    "outlinewidth": 0,
                                                    "ticks": ""
                                                },
                                                "colorscale": [
                                                    [
                                                        0,
                                                        "#0d0887"
                                                    ],
                                                    [
                                                        0.1111111111111111,
                                                        "#46039f"
                                                    ],
                                                    [
                                                        0.2222222222222222,
                                                        "#7201a8"
                                                    ],
                                                    [
                                                        0.3333333333333333,
                                                        "#9c179e"
                                                    ],
                                                    [
                                                        0.4444444444444444,
                                                        "#bd3786"
                                                    ],
                                                    [
                                                        0.5555555555555556,
                                                        "#d8576b"
                                                    ],
                                                    [
                                                        0.6666666666666666,
                                                        "#ed7953"
                                                    ],
                                                    [
                                                        0.7777777777777778,
                                                        "#fb9f3a"
                                                    ],
                                                    [
                                                        0.8888888888888888,
                                                        "#fdca26"
                                                    ],
                                                    [
                                                        1,
                                                        "#f0f921"
                                                    ]
                                                ],
                                                "type": "heatmapgl"
                                            }
                                        ],
                                        "histogram": [
                                            {
                                                "marker": {
                                                    "colorbar": {
                                                        "outlinewidth": 0,
                                                        "ticks": ""
                                                    }
                                                },
                                                "type": "histogram"
                                            }
                                        ],
                                        "histogram2d": [
                                            {
                                                "colorbar": {
                                                    "outlinewidth": 0,
                                                    "ticks": ""
                                                },
                                                "colorscale": [
                                                    [
                                                        0,
                                                        "#0d0887"
                                                    ],
                                                    [
                                                        0.1111111111111111,
                                                        "#46039f"
                                                    ],
                                                    [
                                                        0.2222222222222222,
                                                        "#7201a8"
                                                    ],
                                                    [
                                                        0.3333333333333333,
                                                        "#9c179e"
                                                    ],
                                                    [
                                                        0.4444444444444444,
                                                        "#bd3786"
                                                    ],
                                                    [
                                                        0.5555555555555556,
                                                        "#d8576b"
                                                    ],
                                                    [
                                                        0.6666666666666666,
                                                        "#ed7953"
                                                    ],
                                                    [
                                                        0.7777777777777778,
                                                        "#fb9f3a"
                                                    ],
                                                    [
                                                        0.8888888888888888,
                                                        "#fdca26"
                                                    ],
                                                    [
                                                        1,
                                                        "#f0f921"
                                                    ]
                                                ],
                                                "type": "histogram2d"
                                            }
                                        ],
                                        "histogram2dcontour": [
                                            {
                                                "colorbar": {
                                                    "outlinewidth": 0,
                                                    "ticks": ""
                                                },
                                                "colorscale": [
                                                    [
                                                        0,
                                                        "#0d0887"
                                                    ],
                                                    [
                                                        0.1111111111111111,
                                                        "#46039f"
                                                    ],
                                                    [
                                                        0.2222222222222222,
                                                        "#7201a8"
                                                    ],
                                                    [
                                                        0.3333333333333333,
                                                        "#9c179e"
                                                    ],
                                                    [
                                                        0.4444444444444444,
                                                        "#bd3786"
                                                    ],
                                                    [
                                                        0.5555555555555556,
                                                        "#d8576b"
                                                    ],
                                                    [
                                                        0.6666666666666666,
                                                        "#ed7953"
                                                    ],
                                                    [
                                                        0.7777777777777778,
                                                        "#fb9f3a"
                                                    ],
                                                    [
                                                        0.8888888888888888,
                                                        "#fdca26"
                                                    ],
                                                    [
                                                        1,
                                                        "#f0f921"
                                                    ]
                                                ],
                                                "type": "histogram2dcontour"
                                            }
                                        ],
                                        "mesh3d": [
                                            {
                                                "colorbar": {
                                                    "outlinewidth": 0,
                                                    "ticks": ""
                                                },
                                                "type": "mesh3d"
                                            }
                                        ],
                                        "parcoords": [
                                            {
                                                "line": {
                                                    "colorbar": {
                                                        "outlinewidth": 0,
                                                        "ticks": ""
                                                    }
                                                },
                                                "type": "parcoords"
                                            }
                                        ],
                                        "pie": [
                                            {
                                                "automargin": true,
                                                "type": "pie"
                                            }
                                        ],
                                        "scatter": [
                                            {
                                                "marker": {
                                                    "colorbar": {
                                                        "outlinewidth": 0,
                                                        "ticks": ""
                                                    }
                                                },
                                                "type": "scatter"
                                            }
                                        ],
                                        "scatter3d": [
                                            {
                                                "line": {
                                                    "colorbar": {
                                                        "outlinewidth": 0,
                                                        "ticks": ""
                                                    }
                                                },
                                                "marker": {
                                                    "colorbar": {
                                                        "outlinewidth": 0,
                                                        "ticks": ""
                                                    }
                                                },
                                                "type": "scatter3d"
                                            }
                                        ],
                                        "scattercarpet": [
                                            {
                                                "marker": {
                                                    "colorbar": {
                                                        "outlinewidth": 0,
                                                        "ticks": ""
                                                    }
                                                },
                                                "type": "scattercarpet"
                                            }
                                        ],
                                        "scattergeo": [
                                            {
                                                "marker": {
                                                    "colorbar": {
                                                        "outlinewidth": 0,
                                                        "ticks": ""
                                                    }
                                                },
                                                "type": "scattergeo"
                                            }
                                        ],
                                        "scattergl": [
                                            {
                                                "marker": {
                                                    "colorbar": {
                                                        "outlinewidth": 0,
                                                        "ticks": ""
                                                    }
                                                },
                                                "type": "scattergl"
                                            }
                                        ],
                                        "scattermapbox": [
                                            {
                                                "marker": {
                                                    "colorbar": {
                                                        "outlinewidth": 0,
                                                        "ticks": ""
                                                    }
                                                },
                                                "type": "scattermapbox"
                                            }
                                        ],
                                        "scatterpolar": [
                                            {
                                                "marker": {
                                                    "colorbar": {
                                                        "outlinewidth": 0,
                                                        "ticks": ""
                                                    }
                                                },
                                                "type": "scatterpolar"
                                            }
                                        ],
                                        "scatterpolargl": [
                                            {
                                                "marker": {
                                                    "colorbar": {
                                                        "outlinewidth": 0,
                                                        "ticks": ""
                                                    }
                                                },
                                                "type": "scatterpolargl"
                                            }
                                        ],
                                        "scatterternary": [
                                            {
                                                "marker": {
                                                    "colorbar": {
                                                        "outlinewidth": 0,
                                                        "ticks": ""
                                                    }
                                                },
                                                "type": "scatterternary"
                                            }
                                        ],
                                        "surface": [
                                            {
                                                "colorbar": {
                                                    "outlinewidth": 0,
                                                    "ticks": ""
                                                },
                                                "colorscale": [
                                                    [
                                                        0,
                                                        "#0d0887"
                                                    ],
                                                    [
                                                        0.1111111111111111,
                                                        "#46039f"
                                                    ],
                                                    [
                                                        0.2222222222222222,
                                                        "#7201a8"
                                                    ],
                                                    [
                                                        0.3333333333333333,
                                                        "#9c179e"
                                                    ],
                                                    [
                                                        0.4444444444444444,
                                                        "#bd3786"
                                                    ],
                                                    [
                                                        0.5555555555555556,
                                                        "#d8576b"
                                                    ],
                                                    [
                                                        0.6666666666666666,
                                                        "#ed7953"
                                                    ],
                                                    [
                                                        0.7777777777777778,
                                                        "#fb9f3a"
                                                    ],
                                                    [
                                                        0.8888888888888888,
                                                        "#fdca26"
                                                    ],
                                                    [
                                                        1,
                                                        "#f0f921"
                                                    ]
                                                ],
                                                "type": "surface"
                                            }
                                        ],
                                        "table": [
                                            {
                                                "cells": {
                                                    "fill": {
                                                        "color": "#EBF0F8"
                                                    },
                                                    "line": {
                                                        "color": "white"
                                                    }
                                                },
                                                "header": {
                                                    "fill": {
                                                        "color": "#C8D4E3"
                                                    },
                                                    "line": {
                                                        "color": "white"
                                                    }
                                                },
                                                "type": "table"
                                            }
                                        ]
                                    },
                                    "layout": {
                                        "annotationdefaults": {
                                            "arrowcolor": "#2a3f5f",
                                            "arrowhead": 0,
                                            "arrowwidth": 1
                                        },
                                        "coloraxis": {
                                            "colorbar": {
                                                "outlinewidth": 0,
                                                "ticks": ""
                                            }
                                        },
                                        "colorscale": {
                                            "diverging": [
                                                [
                                                    0,
                                                    "#8e0152"
                                                ],
                                                [
                                                    0.1,
                                                    "#c51b7d"
                                                ],
                                                [
                                                    0.2,
                                                    "#de77ae"
                                                ],
                                                [
                                                    0.3,
                                                    "#f1b6da"
                                                ],
                                                [
                                                    0.4,
                                                    "#fde0ef"
                                                ],
                                                [
                                                    0.5,
                                                    "#f7f7f7"
                                                ],
                                                [
                                                    0.6,
                                                    "#e6f5d0"
                                                ],
                                                [
                                                    0.7,
                                                    "#b8e186"
                                                ],
                                                [
                                                    0.8,
                                                    "#7fbc41"
                                                ],
                                                [
                                                    0.9,
                                                    "#4d9221"
                                                ],
                                                [
                                                    1,
                                                    "#276419"
                                                ]
                                            ],
                                            "sequential": [
                                                [
                                                    0,
                                                    "#0d0887"
                                                ],
                                                [
                                                    0.1111111111111111,
                                                    "#46039f"
                                                ],
                                                [
                                                    0.2222222222222222,
                                                    "#7201a8"
                                                ],
                                                [
                                                    0.3333333333333333,
                                                    "#9c179e"
                                                ],
                                                [
                                                    0.4444444444444444,
                                                    "#bd3786"
                                                ],
                                                [
                                                    0.5555555555555556,
                                                    "#d8576b"
                                                ],
                                                [
                                                    0.6666666666666666,
                                                    "#ed7953"
                                                ],
                                                [
                                                    0.7777777777777778,
                                                    "#fb9f3a"
                                                ],
                                                [
                                                    0.8888888888888888,
                                                    "#fdca26"
                                                ],
                                                [
                                                    1,
                                                    "#f0f921"
                                                ]
                                            ],
                                            "sequentialminus": [
                                                [
                                                    0,
                                                    "#0d0887"
                                                ],
                                                [
                                                    0.1111111111111111,
                                                    "#46039f"
                                                ],
                                                [
                                                    0.2222222222222222,
                                                    "#7201a8"
                                                ],
                                                [
                                                    0.3333333333333333,
                                                    "#9c179e"
                                                ],
                                                [
                                                    0.4444444444444444,
                                                    "#bd3786"
                                                ],
                                                [
                                                    0.5555555555555556,
                                                    "#d8576b"
                                                ],
                                                [
                                                    0.6666666666666666,
                                                    "#ed7953"
                                                ],
                                                [
                                                    0.7777777777777778,
                                                    "#fb9f3a"
                                                ],
                                                [
                                                    0.8888888888888888,
                                                    "#fdca26"
                                                ],
                                                [
                                                    1,
                                                    "#f0f921"
                                                ]
                                            ]
                                        },
                                        "colorway": [
                                            "#636efa",
                                            "#EF553B",
                                            "#00cc96",
                                            "#ab63fa",
                                            "#FFA15A",
                                            "#19d3f3",
                                            "#FF6692",
                                            "#B6E880",
                                            "#FF97FF",
                                            "#FECB52"
                                        ],
                                        "font": {
                                            "color": "#2a3f5f"
                                        },
                                        "geo": {
                                            "bgcolor": "white",
                                            "lakecolor": "white",
                                            "landcolor": "#E5ECF6",
                                            "showlakes": true,
                                            "showland": true,
                                            "subunitcolor": "white"
                                        },
                                        "hoverlabel": {
                                            "align": "left"
                                        },
                                        "hovermode": "closest",
                                        "mapbox": {
                                            "style": "light"
                                        },
                                        "paper_bgcolor": "white",
                                        "plot_bgcolor": "#E5ECF6",
                                        "polar": {
                                            "angularaxis": {
                                                "gridcolor": "white",
                                                "linecolor": "white",
                                                "ticks": ""
                                            },
                                            "bgcolor": "#E5ECF6",
                                            "radialaxis": {
                                                "gridcolor": "white",
                                                "linecolor": "white",
                                                "ticks": ""
                                            }
                                        },
                                        "scene": {
                                            "xaxis": {
                                                "backgroundcolor": "#E5ECF6",
                                                "gridcolor": "white",
                                                "gridwidth": 2,
                                                "linecolor": "white",
                                                "showbackground": true,
                                                "ticks": "",
                                                "zerolinecolor": "white"
                                            },
                                            "yaxis": {
                                                "backgroundcolor": "#E5ECF6",
                                                "gridcolor": "white",
                                                "gridwidth": 2,
                                                "linecolor": "white",
                                                "showbackground": true,
                                                "ticks": "",
                                                "zerolinecolor": "white"
                                            },
                                            "zaxis": {
                                                "backgroundcolor": "#E5ECF6",
                                                "gridcolor": "white",
                                                "gridwidth": 2,
                                                "linecolor": "white",
                                                "showbackground": true,
                                                "ticks": "",
                                                "zerolinecolor": "white"
                                            }
                                        },
                                        "shapedefaults": {
                                            "line": {
                                                "color": "#2a3f5f"
                                            }
                                        },
                                        "ternary": {
                                            "aaxis": {
                                                "gridcolor": "white",
                                                "linecolor": "white",
                                                "ticks": ""
                                            },
                                            "baxis": {
                                                "gridcolor": "white",
                                                "linecolor": "white",
                                                "ticks": ""
                                            },
                                            "bgcolor": "#E5ECF6",
                                            "caxis": {
                                                "gridcolor": "white",
                                                "linecolor": "white",
                                                "ticks": ""
                                            }
                                        },
                                        "title": {
                                            "x": 0.05
                                        },
                                        "xaxis": {
                                            "automargin": true,
                                            "gridcolor": "white",
                                            "linecolor": "white",
                                            "ticks": "",
                                            "title": {
                                                "standoff": 15
                                            },
                                            "zerolinecolor": "white",
                                            "zerolinewidth": 2
                                        },
                                        "yaxis": {
                                            "automargin": true,
                                            "gridcolor": "white",
                                            "linecolor": "white",
                                            "ticks": "",
                                            "title": {
                                                "standoff": 15
                                            },
                                            "zerolinecolor": "white",
                                            "zerolinewidth": 2
                                        }
                                    }
                                },
                                "title": {
                                    "text": "Interactive CandleStick & Volume Chart MSFT - 20-10-2021"
                                },
                                "xaxis": {
                                    "anchor": "y",
                                    "domain": [
                                        0,
                                        1
                                    ],
                                    "matches": "x3",
                                    "showticklabels": false,
                                    "type": "category"
                                },
                                "xaxis2": {
                                    "anchor": "y2",
                                    "domain": [
                                        0,
                                        1
                                    ],
                                    "matches": "x3",
                                    "showticklabels": false,
                                    "type": "category"
                                },
                                "xaxis3": {
                                    "anchor": "y3",
                                    "domain": [
                                        0,
                                        1
                                    ],
                                    "type": "category"
                                },
                                "yaxis": {
                                    "anchor": "x",
                                    "domain": [
                                        0.232,
                                        1
                                    ]
                                },
                                "yaxis2": {
                                    "anchor": "x2",
                                    "domain": [
                                        0.116,
                                        0.21200000000000002
                                    ]
                                },
                                "yaxis3": {
                                    "anchor": "x3",
                                    "domain": [
                                        0,
                                        0.096
                                    ]
                                }
                            }
                        }
                    },
                    "metadata": {},
                    "output_type": "display_data"
                }
            ],
            "execution_count": 14
        },
        {
            "cell_type": "markdown",
            "source": [
                "## Bene, e ora?\n",
                "\n",
                "Fin qui tutto chiaro? Bene.\n",
                "\n",
                "Ora viene la parte più divertente, memorizzare i dati su SQL Server ed attingere dal database per leggere i dati, calcolare indicatori e magari generare notifiche quando cambia il trading signal di un azione o ETF.\n",
                "\n",
                "  \n",
                "\n",
                "Let's go!"
            ],
            "metadata": {
                "azdata_cell_guid": "a309525c-7197-4605-be4f-59d9cecc6cec",
                "extensions": {
                    "azuredatastudio": {
                        "views": []
                    }
                }
            }
        }
    ]
}