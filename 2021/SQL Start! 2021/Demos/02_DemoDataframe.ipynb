{
    "metadata": {
        "kernelspec": {
            "name": "python3",
            "display_name": "Python 3",
            "language": "python"
        },
        "language_info": {
            "name": "python",
            "version": "3.9.7",
            "mimetype": "text/x-python",
            "codemirror_mode": {
                "name": "ipython",
                "version": 3
            },
            "pygments_lexer": "ipython3",
            "nbconvert_exporter": "python",
            "file_extension": ".py"
        },
        "extensions": {
            "azuredatastudio": {
                "version": 1,
                "views": []
            }
        }
    },
    "nbformat_minor": 2,
    "nbformat": 4,
    "cells": [
        {
            "cell_type": "markdown",
            "source": [
                "# Pandas crash course\n",
                "\n",
                "Qualche esempio di come utilizzare i dataframe della libreria Pandas in Python"
            ],
            "metadata": {
                "azdata_cell_guid": "17cae53a-e681-4c8d-ada3-a3c77a2bc62a",
                "extensions": {
                    "azuredatastudio": {
                        "views": []
                    }
                }
            }
        },
        {
            "cell_type": "code",
            "source": [
                "import pandas as pd"
            ],
            "metadata": {
                "azdata_cell_guid": "66eef636-2968-4e11-a97d-abcf0bfc90a9",
                "extensions": {
                    "azuredatastudio": {
                        "views": []
                    }
                },
                "language": "python"
            },
            "outputs": [],
            "execution_count": null
        },
        {
            "cell_type": "code",
            "source": [
                "#\r\n",
                "# Create a new dataframe from a dictionary\r\n",
                "#\r\n",
                "data = {\r\n",
                "    'Open': [250.87, 252.15, 246.45, 249.06, 250.97, 253.40],\r\n",
                "    'High': [251.73, 254.30, 249.86, 249.50, 251.21, 254.35],\r\n",
                "    'Low': [247.12, 251.17, 244.69, 245.82, 245.76, 254.35],\r\n",
                "    'Close': [247.18, 252.46, 249.73, 246.47, 247.79, 251.86],\r\n",
                "    'Adj Close': [247.18, 252.46, 249.73, 246.47, 247.79, 251.86],\r\n",
                "    'Volume': [29273400, 27010100, 26491100, 21901300, 32756100, 19626600]\r\n",
                "}\r\n",
                "\r\n",
                "row_labels = ['2021-05-10', '2021-05-07', '2021-05-06', '2021-05-05', '2021-05-04', '2021-05-03']\r\n",
                "\r\n",
                "df = pd.DataFrame(data=data, index=row_labels)\r\n",
                "df"
            ],
            "metadata": {
                "azdata_cell_guid": "b8c4bba2-3d97-4f77-908f-0d30e8254b33",
                "extensions": {
                    "azuredatastudio": {
                        "views": []
                    }
                },
                "tags": [
                    "hide_input"
                ],
                "language": "python"
            },
            "outputs": [],
            "execution_count": 3
        },
        {
            "cell_type": "code",
            "source": [
                "#\r\n",
                "# Visualizzare solo le prime n righe\r\n",
                "#\r\n",
                "df.head(2)"
            ],
            "metadata": {
                "azdata_cell_guid": "bb61b5a6-3521-42e5-93f3-016bed3e12c8",
                "extensions": {
                    "azuredatastudio": {
                        "views": []
                    }
                },
                "language": "python"
            },
            "outputs": [],
            "execution_count": 4
        },
        {
            "cell_type": "code",
            "source": [
                "#\r\n",
                "# Visualizzare solo le ultime n righe\r\n",
                "#\r\n",
                "df.tail(3)"
            ],
            "metadata": {
                "azdata_cell_guid": "27177070-4024-4e27-a07c-65f2bcb4ae4f",
                "extensions": {
                    "azuredatastudio": {
                        "views": []
                    }
                },
                "tags": [],
                "language": "python"
            },
            "outputs": [],
            "execution_count": 5
        },
        {
            "cell_type": "code",
            "source": [
                "closes = df[\"Close\"]\r\n",
                "closes"
            ],
            "metadata": {
                "azdata_cell_guid": "3896bb27-5cd4-402e-816f-fa57e410ab1a",
                "extensions": {
                    "azuredatastudio": {
                        "views": []
                    }
                },
                "language": "python"
            },
            "outputs": [],
            "execution_count": 6
        },
        {
            "cell_type": "code",
            "source": [
                "#\r\n",
                "# Usare la dot notation per selezionare la singola colonna\r\n",
                "#\r\n",
                "df.Close"
            ],
            "metadata": {
                "azdata_cell_guid": "4a037590-0022-4567-a231-85d6985d9098",
                "extensions": {
                    "azuredatastudio": {
                        "views": []
                    }
                },
                "language": "python"
            },
            "outputs": [],
            "execution_count": 7
        },
        {
            "cell_type": "code",
            "source": [
                "#\r\n",
                "# Selezionare le righe per valore dell'indice\r\n",
                "#\r\n",
                "df.loc['2021-05-03']"
            ],
            "metadata": {
                "azdata_cell_guid": "1e84f33c-df3f-4895-b63a-f4734ba06896",
                "extensions": {
                    "azuredatastudio": {
                        "views": []
                    }
                },
                "language": "python"
            },
            "outputs": [],
            "execution_count": 8
        },
        {
            "cell_type": "code",
            "source": [
                "#\r\n",
                "# Selezionare le righe in maniera posizionale\r\n",
                "#\r\n",
                "df.iloc[-2:]"
            ],
            "metadata": {
                "azdata_cell_guid": "35865b36-aec9-4e67-94c6-eba6f3351d7f",
                "extensions": {
                    "azuredatastudio": {
                        "views": []
                    }
                },
                "language": "python"
            },
            "outputs": [],
            "execution_count": 12
        },
        {
            "cell_type": "code",
            "source": [
                "#\r\n",
                "# Esportare il dataframe in un file CSV\r\n",
                "#\r\n",
                "df.to_csv('data.csv')"
            ],
            "metadata": {
                "azdata_cell_guid": "b0880075-b724-4667-a10d-620dbf786b5a",
                "extensions": {
                    "azuredatastudio": {
                        "views": []
                    }
                },
                "language": "python"
            },
            "outputs": [],
            "execution_count": 14
        },
        {
            "cell_type": "code",
            "source": [
                "#\r\n",
                "# Rileggere il file CSV#\r\n",
                "#\r\n",
                "myvar = pd.read_csv('data.csv', index_col=0)\n",
                "myvar"
            ],
            "metadata": {
                "azdata_cell_guid": "b6aebfe7-d471-42bd-9059-87304303ee97",
                "tags": [],
                "extensions": {
                    "azuredatastudio": {
                        "views": []
                    }
                },
                "language": "python"
            },
            "outputs": [],
            "execution_count": 16
        },
        {
            "cell_type": "code",
            "source": [
                "#\r\n",
                "# Calcolare la differenza con la riga precedente di una colonna\r\n",
                "#\r\n",
                "df['Var'] = df[['Close']] - df[['Close']].shift(-1)\r\n",
                "df['VarPerc'] = (df[['Close']] / df[['Close']].shift(-1)) * 100 - 100\r\n",
                "df"
            ],
            "metadata": {
                "azdata_cell_guid": "7acb8cff-8e72-400e-a787-e966c0c1f061",
                "tags": [],
                "extensions": {
                    "azuredatastudio": {
                        "views": []
                    }
                },
                "language": "python"
            },
            "outputs": [],
            "execution_count": 17
        },
        {
            "cell_type": "markdown",
            "source": [
                "The End"
            ],
            "metadata": {
                "azdata_cell_guid": "392fbc3f-d651-436b-a943-c71b54d1fc5b",
                "extensions": {
                    "azuredatastudio": {
                        "views": []
                    }
                }
            }
        }
    ]
}